{
 "cells": [
  {
   "cell_type": "markdown",
   "metadata": {},
   "source": [
    "## Get Street Names\n",
    "---"
   ]
  },
  {
   "cell_type": "markdown",
   "metadata": {},
   "source": [
    "#### Import Libraries"
   ]
  },
  {
   "cell_type": "code",
   "execution_count": 85,
   "metadata": {
    "scrolled": true
   },
   "outputs": [],
   "source": [
    "import spacy\n",
    "import re\n",
    "import pandas as pd\n",
    "from spacy import displacy\n",
    "from spacy.attrs import LOWER \n",
    "from collections import Counter\n",
    "from spacy.matcher import Matcher\n",
    "import numpy as np\n",
    "import usaddress\n",
    "import requests\n",
    "nlp = spacy.load('en')"
   ]
  },
  {
   "cell_type": "code",
   "execution_count": 86,
   "metadata": {},
   "outputs": [],
   "source": [
    "pd.options.display.max_colwidth = 1000"
   ]
  },
  {
   "cell_type": "markdown",
   "metadata": {},
   "source": [
    "#### Refresh Stored Variables from Previous Notebooks"
   ]
  },
  {
   "cell_type": "code",
   "execution_count": 87,
   "metadata": {},
   "outputs": [],
   "source": [
    "%store -r"
   ]
  },
  {
   "cell_type": "markdown",
   "metadata": {},
   "source": [
    "#### Open Saved File and Print First Row"
   ]
  },
  {
   "cell_type": "code",
   "execution_count": 88,
   "metadata": {},
   "outputs": [
    {
     "data": {
      "text/html": [
       "<div>\n",
       "<style scoped>\n",
       "    .dataframe tbody tr th:only-of-type {\n",
       "        vertical-align: middle;\n",
       "    }\n",
       "\n",
       "    .dataframe tbody tr th {\n",
       "        vertical-align: top;\n",
       "    }\n",
       "\n",
       "    .dataframe thead th {\n",
       "        text-align: right;\n",
       "    }\n",
       "</style>\n",
       "<table border=\"1\" class=\"dataframe\">\n",
       "  <thead>\n",
       "    <tr style=\"text-align: right;\">\n",
       "      <th></th>\n",
       "      <th>transcripts</th>\n",
       "      <th>confidence</th>\n",
       "      <th>tokens</th>\n",
       "    </tr>\n",
       "  </thead>\n",
       "  <tbody>\n",
       "    <tr>\n",
       "      <td>0</td>\n",
       "      <td>we going to call Joe at the corner of BP's and Taraval</td>\n",
       "      <td>0.807508</td>\n",
       "      <td>['we', 'going', 'to', 'call', 'joe', 'at', 'the', 'corner', 'of', \"bp's\", 'and', 'taraval']</td>\n",
       "    </tr>\n",
       "  </tbody>\n",
       "</table>\n",
       "</div>"
      ],
      "text/plain": [
       "                                              transcripts  confidence  \\\n",
       "0  we going to call Joe at the corner of BP's and Taraval    0.807508   \n",
       "\n",
       "                                                                                        tokens  \n",
       "0  ['we', 'going', 'to', 'call', 'joe', 'at', 'the', 'corner', 'of', \"bp's\", 'and', 'taraval']  "
      ]
     },
     "execution_count": 88,
     "metadata": {},
     "output_type": "execute_result"
    }
   ],
   "source": [
    "df = pd.read_csv('./data/transcripts.csv')\n",
    "df.head(1)"
   ]
  },
  {
   "cell_type": "markdown",
   "metadata": {},
   "source": [
    "#### Check Shape - How Many Observations"
   ]
  },
  {
   "cell_type": "code",
   "execution_count": 89,
   "metadata": {},
   "outputs": [
    {
     "data": {
      "text/plain": [
       "(79, 3)"
      ]
     },
     "execution_count": 89,
     "metadata": {},
     "output_type": "execute_result"
    }
   ],
   "source": [
    "df.shape"
   ]
  },
  {
   "cell_type": "markdown",
   "metadata": {},
   "source": [
    "#### Find Possible Streets from Transcripts"
   ]
  },
  {
   "cell_type": "code",
   "execution_count": 90,
   "metadata": {},
   "outputs": [],
   "source": [
    "# Building the Matcher entity and instantiating\n",
    "matcher = Matcher(nlp.vocab)\n",
    "\n",
    "# specifies what spacy does when it finds a match in the document. Here we just want to return the matches\n",
    "def on_match(matcher, doc, id, matches):\n",
    "    return matches\n",
    "\n",
    "# building patterns for every road name, the condition being that the lowercase entity in the doc should match \n",
    "# the lowercase verion of the road name, so that capitalization wouldn't affect the model\n",
    "def build_pattern(road_name):\n",
    "    list_words = road_name.split(' ')\n",
    "    \n",
    "    # general words that appear a lot in the list. \n",
    "    # The reason why we do this is to still get a match if they are not present\n",
    "    roads_general = ['ln','alley','rd', 'ct', 'dr', 'ave', 'way','blvd', 'path'\n",
    "                     'st', 'cir','pl', 'terrace', 'area', 'bridge', 'highway', 'trail']\n",
    "    if list_words[-1].lower() in roads_general:\n",
    "        pattern = [{'LOWER': word.lower()} for word in list_words[:-1]]\n",
    "        pattern.append({'op': '*', 'LOWER' : list_words[-1].lower()})\n",
    "    else:\n",
    "        pattern = [{'LOWER': word.lower()} for word in list_words]\n",
    "    return pattern\n",
    "\n",
    "# Get a pattern of every road\n",
    "for road in streets_list:\n",
    "    matcher.add(road, on_match, build_pattern(road))\n",
    "    \n",
    "# This function takes a string as input and returns it with every word capitalized\n",
    "def capitalize_string(string_in):\n",
    "    words = string_in.split(' ')\n",
    "    string_out = ''\n",
    "    for i in words:\n",
    "        string_out += i.capitalize() + ' '\n",
    "    string_out = string_out[:-1]\n",
    "    return string_out   \n",
    "    \n",
    "# Look for locations in the transcript, then extract them\n",
    "def location_extraction_context(string_in):\n",
    "    doc = nlp(string_in)\n",
    "    string_out = ''\n",
    "    list_words = string_in.split(' ')\n",
    "    matches = matcher(doc)\n",
    "    if len(matches) == 0:\n",
    "        return None\n",
    "    indeces_to_pop = []\n",
    "    \n",
    "    # loop through the matches and delete those that are a subset of another. \n",
    "    # this was done because some road names have words in commond and we were getting 2 matches for some locations\n",
    "    # here we eliminate the shorter one since the longest is clearly the one intended\n",
    "    for a in range(len(matches)):\n",
    "        for b in range(a+1, len(matches)):\n",
    "            if (matches[a][2] == matches[b][2]):\n",
    "                if (matches[a][1] < matches[b][1]):\n",
    "                    indeces_to_pop.append(b)\n",
    "                else:\n",
    "                    indeces_to_pop.append(a)\n",
    "    matches_final = [tup for index, tup in enumerate(matches) if index not in indeces_to_pop]\n",
    "    \n",
    "    # loop through the matches and add them to the string to return\n",
    "    # matches consist of an id and the indeces of the first and last word that constitute the pattern in the document\n",
    "    # we use the ids to extrat the locations from the rules in the Matcher instance and not from the text itself,\n",
    "    # to make sure they all follow the same format\n",
    "    for match in matches_final:\n",
    "        list_pattern = matcher.get(match[0])[1][0]\n",
    "        for token in list_pattern:\n",
    "            string_out += token['LOWER'] + ' '\n",
    "        string_out += ', '\n",
    "    string_out = string_out[:-3]\n",
    "    string_out = capitalize_string(string_out)\n",
    "    return string_out\n",
    "\n",
    "# Add a column with the extracted locations\n",
    "df['streets'] = df['transcripts'].map(location_extraction_context)"
   ]
  },
  {
   "cell_type": "markdown",
   "metadata": {},
   "source": [
    "**Code Adapted from:** [Mitchell Bohman, Nour Zahlan, and Masiur Abik](https://github.com/mchbmn/radio-to-location) and [Joseph Hopkins, Carol, Chiu, Anthony Chapman, Kwamae Delva](https://github.com/delvakwa/police_radio_to_mapping)"
   ]
  },
  {
   "cell_type": "code",
   "execution_count": 91,
   "metadata": {},
   "outputs": [
    {
     "data": {
      "text/html": [
       "<div>\n",
       "<style scoped>\n",
       "    .dataframe tbody tr th:only-of-type {\n",
       "        vertical-align: middle;\n",
       "    }\n",
       "\n",
       "    .dataframe tbody tr th {\n",
       "        vertical-align: top;\n",
       "    }\n",
       "\n",
       "    .dataframe thead th {\n",
       "        text-align: right;\n",
       "    }\n",
       "</style>\n",
       "<table border=\"1\" class=\"dataframe\">\n",
       "  <thead>\n",
       "    <tr style=\"text-align: right;\">\n",
       "      <th></th>\n",
       "      <th>transcripts</th>\n",
       "      <th>confidence</th>\n",
       "      <th>tokens</th>\n",
       "      <th>streets</th>\n",
       "    </tr>\n",
       "  </thead>\n",
       "  <tbody>\n",
       "    <tr>\n",
       "      <td>0</td>\n",
       "      <td>we going to call Joe at the corner of BP's and Taraval</td>\n",
       "      <td>0.807508</td>\n",
       "      <td>['we', 'going', 'to', 'call', 'joe', 'at', 'the', 'corner', 'of', \"bp's\", 'and', 'taraval']</td>\n",
       "      <td>None</td>\n",
       "    </tr>\n",
       "  </tbody>\n",
       "</table>\n",
       "</div>"
      ],
      "text/plain": [
       "                                              transcripts  confidence  \\\n",
       "0  we going to call Joe at the corner of BP's and Taraval    0.807508   \n",
       "\n",
       "                                                                                        tokens  \\\n",
       "0  ['we', 'going', 'to', 'call', 'joe', 'at', 'the', 'corner', 'of', \"bp's\", 'and', 'taraval']   \n",
       "\n",
       "  streets  \n",
       "0    None  "
      ]
     },
     "execution_count": 91,
     "metadata": {},
     "output_type": "execute_result"
    }
   ],
   "source": [
    "df.head(1)"
   ]
  },
  {
   "cell_type": "markdown",
   "metadata": {},
   "source": [
    "#### Split All List Elements for Possible Streets into Single Strings"
   ]
  },
  {
   "cell_type": "code",
   "execution_count": 92,
   "metadata": {},
   "outputs": [
    {
     "data": {
      "text/plain": [
       "['10th Ave', '10th St', '11th Ave', '11th St', '12th Ave']"
      ]
     },
     "execution_count": 92,
     "metadata": {},
     "output_type": "execute_result"
    }
   ],
   "source": [
    "streets_list[:5]"
   ]
  },
  {
   "cell_type": "code",
   "execution_count": 93,
   "metadata": {},
   "outputs": [],
   "source": [
    "streets_list = [i.lower().split(' ') for i in streets_list]\n",
    "\n",
    "complete_list = []\n",
    "for i in streets_list:\n",
    "    for j in i:\n",
    "        complete_list.append(j)\n",
    "complete_list = list(set(complete_list))"
   ]
  },
  {
   "cell_type": "code",
   "execution_count": 94,
   "metadata": {},
   "outputs": [
    {
     "data": {
      "text/plain": [
       "[['10th', 'ave'],\n",
       " ['10th', 'st'],\n",
       " ['11th', 'ave'],\n",
       " ['11th', 'st'],\n",
       " ['12th', 'ave']]"
      ]
     },
     "execution_count": 94,
     "metadata": {},
     "output_type": "execute_result"
    }
   ],
   "source": [
    "streets_list[:5]"
   ]
  },
  {
   "cell_type": "markdown",
   "metadata": {},
   "source": [
    "#### Create Columns with Possible Addresses' Numbers"
   ]
  },
  {
   "cell_type": "code",
   "execution_count": 95,
   "metadata": {},
   "outputs": [],
   "source": [
    "# Creat list to house data from all addresses\n",
    "addresses = []\n",
    "\n",
    "# Loop Through all DataFrame's rows\n",
    "for row in df['transcripts']:\n",
    "    # Create dictionary to house data for each row of the DataFrame\n",
    "    d = {}\n",
    "    \n",
    "    # Parse through rows and house results in a list\n",
    "    list_tuples = usaddress.parse(row)\n",
    "    \n",
    "    # Create variable to house list of possible numbers\n",
    "    numbers = []\n",
    "    \n",
    "    # Loop through each value in the list created\n",
    "    for i, n in enumerate(list_tuples):\n",
    "        \n",
    "        # Get addresses' numbers\n",
    "        if list_tuples[i][1] == 'AddressNumber':\n",
    "            \n",
    "            # Append numbers to list\n",
    "            numbers.append(n[0])\n",
    "    \n",
    "    # Include keys and values into d\n",
    "    d['numbers'] = numbers\n",
    "    \n",
    "    # Append d to addresses\n",
    "    addresses.append(d)"
   ]
  },
  {
   "cell_type": "markdown",
   "metadata": {},
   "source": [
    "#### Create DataFrame with Address Numbers and Concatenate with Original DataFrame"
   ]
  },
  {
   "cell_type": "code",
   "execution_count": 96,
   "metadata": {},
   "outputs": [],
   "source": [
    "df = pd.concat([df, pd.DataFrame(addresses)], axis=1)"
   ]
  },
  {
   "cell_type": "markdown",
   "metadata": {},
   "source": [
    "#### Drop NaN and Reset Index"
   ]
  },
  {
   "cell_type": "code",
   "execution_count": 97,
   "metadata": {},
   "outputs": [],
   "source": [
    "df.dropna(inplace=True)\n",
    "df.reset_index(drop=True, inplace=True)"
   ]
  },
  {
   "cell_type": "code",
   "execution_count": 98,
   "metadata": {},
   "outputs": [
    {
     "data": {
      "text/html": [
       "<div>\n",
       "<style scoped>\n",
       "    .dataframe tbody tr th:only-of-type {\n",
       "        vertical-align: middle;\n",
       "    }\n",
       "\n",
       "    .dataframe tbody tr th {\n",
       "        vertical-align: top;\n",
       "    }\n",
       "\n",
       "    .dataframe thead th {\n",
       "        text-align: right;\n",
       "    }\n",
       "</style>\n",
       "<table border=\"1\" class=\"dataframe\">\n",
       "  <thead>\n",
       "    <tr style=\"text-align: right;\">\n",
       "      <th></th>\n",
       "      <th>transcripts</th>\n",
       "      <th>confidence</th>\n",
       "      <th>tokens</th>\n",
       "      <th>streets</th>\n",
       "      <th>numbers</th>\n",
       "    </tr>\n",
       "  </thead>\n",
       "  <tbody>\n",
       "    <tr>\n",
       "      <td>0</td>\n",
       "      <td>40th the Safeway Taraval 730 Taraval top of seventies and eighties is possibly related and that because of EMA</td>\n",
       "      <td>0.79367</td>\n",
       "      <td>['40th', 'the', 'safeway', 'taraval', '730', 'taraval', 'top', 'of', 'seventies', 'and', 'eighties', 'is', 'possibly', 'related', 'and', 'that', 'because', 'of', 'ema']</td>\n",
       "      <td>40th Ave</td>\n",
       "      <td>[]</td>\n",
       "    </tr>\n",
       "  </tbody>\n",
       "</table>\n",
       "</div>"
      ],
      "text/plain": [
       "                                                                                                      transcripts  \\\n",
       "0  40th the Safeway Taraval 730 Taraval top of seventies and eighties is possibly related and that because of EMA   \n",
       "\n",
       "   confidence  \\\n",
       "0     0.79367   \n",
       "\n",
       "                                                                                                                                                                     tokens  \\\n",
       "0  ['40th', 'the', 'safeway', 'taraval', '730', 'taraval', 'top', 'of', 'seventies', 'and', 'eighties', 'is', 'possibly', 'related', 'and', 'that', 'because', 'of', 'ema']   \n",
       "\n",
       "    streets numbers  \n",
       "0  40th Ave      []  "
      ]
     },
     "execution_count": 98,
     "metadata": {},
     "output_type": "execute_result"
    }
   ],
   "source": [
    "df.head(1)"
   ]
  },
  {
   "cell_type": "markdown",
   "metadata": {},
   "source": [
    "#### Create List of All Possible Addresses for each Row"
   ]
  },
  {
   "cell_type": "code",
   "execution_count": 99,
   "metadata": {},
   "outputs": [],
   "source": [
    "# Creat list to house data for possible addresses\n",
    "possibilities = []\n",
    "\n",
    "# Loop Through all DataFrame's rows\n",
    "for i in range(0, df.shape[0]):\n",
    "    \n",
    "    # Create variables to temporarily house information\n",
    "    final_poss = []\n",
    "    d = {}\n",
    "    number_poss = []\n",
    "    \n",
    "    # Loop through values in each row / numbers\n",
    "    for row in df[i:i+1]['numbers']:\n",
    "        for a_number in row:\n",
    "            number_poss.append(a_number)\n",
    "    \n",
    "    # Loop through values in each row / streets\n",
    "    street_poss = []\n",
    "    for row2 in [x.split(',') for x in df[i:(i+1)]['streets']][0]:\n",
    "        for j in row2.split(','):\n",
    "            street_poss.append(j.strip())\n",
    "\n",
    "    # Concatenate numbers and streets\n",
    "    for i in number_poss:\n",
    "        for j in street_poss:\n",
    "            final_poss.append(i + ' ' + j)\n",
    "\n",
    "    # Append all possibilities to list\n",
    "    d['possibilities'] = list(set(final_poss))\n",
    "    possibilities.append(d)\n",
    "\n",
    "# Concatenate dataframes\n",
    "df = pd.concat([df, pd.DataFrame(possibilities)], axis=1)"
   ]
  },
  {
   "cell_type": "markdown",
   "metadata": {},
   "source": [
    "#### Drop Empty Lists"
   ]
  },
  {
   "cell_type": "code",
   "execution_count": 100,
   "metadata": {},
   "outputs": [],
   "source": [
    "df['possibilities'] = df['possibilities'].map(lambda x: np.nan if len(x) == 0 else x)\n",
    "df.dropna(inplace=True)\n",
    "df.reset_index(drop=True, inplace=True)"
   ]
  },
  {
   "cell_type": "code",
   "execution_count": 101,
   "metadata": {},
   "outputs": [
    {
     "data": {
      "text/html": [
       "<div>\n",
       "<style scoped>\n",
       "    .dataframe tbody tr th:only-of-type {\n",
       "        vertical-align: middle;\n",
       "    }\n",
       "\n",
       "    .dataframe tbody tr th {\n",
       "        vertical-align: top;\n",
       "    }\n",
       "\n",
       "    .dataframe thead th {\n",
       "        text-align: right;\n",
       "    }\n",
       "</style>\n",
       "<table border=\"1\" class=\"dataframe\">\n",
       "  <thead>\n",
       "    <tr style=\"text-align: right;\">\n",
       "      <th></th>\n",
       "      <th>transcripts</th>\n",
       "      <th>confidence</th>\n",
       "      <th>tokens</th>\n",
       "      <th>streets</th>\n",
       "      <th>numbers</th>\n",
       "      <th>possibilities</th>\n",
       "    </tr>\n",
       "  </thead>\n",
       "  <tbody>\n",
       "    <tr>\n",
       "      <td>0</td>\n",
       "      <td>I have 12 of them with a 585 at any in Leavenworth well the silver 12 out of the next person more than says welcome 13s Perkins over 30 never 12 over to 14 hours 70 for the night</td>\n",
       "      <td>0.715435</td>\n",
       "      <td>['i', 'have', '12', 'of', 'them', 'with', 'a', '585', 'at', 'any', 'in', 'leavenworth', 'well', 'the', 'silver', '12', 'out', 'of', 'the', 'next', 'person', 'more', 'than', 'says', 'welcome', '13s', 'perkins', 'over', '30', 'never', '12', 'over', 'to', '14', 'hours', '70', 'for', 'the', 'night']</td>\n",
       "      <td>Silver Ave</td>\n",
       "      <td>[70]</td>\n",
       "      <td>[70 Silver Ave]</td>\n",
       "    </tr>\n",
       "  </tbody>\n",
       "</table>\n",
       "</div>"
      ],
      "text/plain": [
       "                                                                                                                                                                          transcripts  \\\n",
       "0  I have 12 of them with a 585 at any in Leavenworth well the silver 12 out of the next person more than says welcome 13s Perkins over 30 never 12 over to 14 hours 70 for the night   \n",
       "\n",
       "   confidence  \\\n",
       "0    0.715435   \n",
       "\n",
       "                                                                                                                                                                                                                                                                                                     tokens  \\\n",
       "0  ['i', 'have', '12', 'of', 'them', 'with', 'a', '585', 'at', 'any', 'in', 'leavenworth', 'well', 'the', 'silver', '12', 'out', 'of', 'the', 'next', 'person', 'more', 'than', 'says', 'welcome', '13s', 'perkins', 'over', '30', 'never', '12', 'over', 'to', '14', 'hours', '70', 'for', 'the', 'night']   \n",
       "\n",
       "      streets numbers    possibilities  \n",
       "0  Silver Ave    [70]  [70 Silver Ave]  "
      ]
     },
     "execution_count": 101,
     "metadata": {},
     "output_type": "execute_result"
    }
   ],
   "source": [
    "df.head(1)"
   ]
  },
  {
   "cell_type": "markdown",
   "metadata": {},
   "source": [
    "#### Check DataFrame's Shape"
   ]
  },
  {
   "cell_type": "code",
   "execution_count": 102,
   "metadata": {},
   "outputs": [
    {
     "data": {
      "text/plain": [
       "(6, 6)"
      ]
     },
     "execution_count": 102,
     "metadata": {},
     "output_type": "execute_result"
    }
   ],
   "source": [
    "df.shape"
   ]
  },
  {
   "cell_type": "markdown",
   "metadata": {},
   "source": [
    "#### Get Latitude And Longitude - Google Maps Geocoding API"
   ]
  },
  {
   "cell_type": "code",
   "execution_count": 103,
   "metadata": {},
   "outputs": [],
   "source": [
    "# Input API Key\n",
    "api_key = '<YOUR-API-KEY>'"
   ]
  },
  {
   "cell_type": "code",
   "execution_count": 104,
   "metadata": {},
   "outputs": [],
   "source": [
    "def get_google_latlong(address, api_key=None, return_full_response=False):\n",
    "    \n",
    "    # Set up Google Maps Geocoding url\n",
    "    geocode_url = \"https://maps.googleapis.com/maps/api/geocode/json?address={}\".format(address)\n",
    "    \n",
    "    # Proceed if api_key is given\n",
    "    if api_key is not None:\n",
    "        geocode_url = geocode_url + \"&key={}\".format(api_key)\n",
    "        \n",
    "    # Ping google for the reuslts:\n",
    "    results = requests.get(geocode_url)\n",
    "    \n",
    "    # Results will be in JSON format - convert to dict using requests functionality\n",
    "    results = results.json()\n",
    "    \n",
    "    # if there's no results or an error, return empty results.\n",
    "    if len(results['results']) == 0:\n",
    "        output = {\n",
    "            \"latitude\": None,\n",
    "            \"longitude\": None\n",
    "        }\n",
    "    else:    \n",
    "        answer = results['results'][0]\n",
    "        output = {\n",
    "            \"latitude\": answer.get('geometry').get('location').get('lat'),\n",
    "            \"longitude\": answer.get('geometry').get('location').get('lng')\n",
    "        }\n",
    "        \n",
    "    # Append some other details:    \n",
    "#     output['input_string'] = address\n",
    "#     output['number_of_results'] = len(results['results'])\n",
    "#     output['status'] = results.get('status')\n",
    "    if return_full_response is True:\n",
    "        output['response'] = results\n",
    "    \n",
    "    return output"
   ]
  },
  {
   "cell_type": "markdown",
   "metadata": {},
   "source": [
    "#### Adapted from https://www.shanelynn.ie/batch-geocoding-in-python-with-google-geocoding-api/"
   ]
  },
  {
   "cell_type": "markdown",
   "metadata": {},
   "source": [
    "#### Loop Through Every Possible Address and Get Lat/Long Results"
   ]
  },
  {
   "cell_type": "code",
   "execution_count": 105,
   "metadata": {},
   "outputs": [
    {
     "name": "stdout",
     "output_type": "stream",
     "text": [
      "70 Silver Ave, San Francisco, CA\n",
      "4419 State Dr, San Francisco, CA\n",
      "4419 California Ave, San Francisco, CA\n",
      "400 Turk Blvd, San Francisco, CA\n",
      "400 Drummond Alley, San Francisco, CA\n",
      "1404 California Ave, San Francisco, CA\n",
      "1404 15th Ave, San Francisco, CA\n",
      "1404 Treat Ave, San Francisco, CA\n",
      "1404 Black Pl, San Francisco, CA\n",
      "12 Dorado Terrace, San Francisco, CA\n",
      "1934 19th Ave, San Francisco, CA\n",
      "70 20th Ave, San Francisco, CA\n",
      "1934 20th Ave, San Francisco, CA\n",
      "70 19th Ave, San Francisco, CA\n"
     ]
    }
   ],
   "source": [
    "# Creat list to house data from all requests\n",
    "lat_long = []\n",
    "\n",
    "# Loop Through all DataFrame's rows\n",
    "for row in df['possibilities']:\n",
    "    \n",
    "    # Create dictionary to house data for each row of the DataFrame\n",
    "    d_poss = {}\n",
    "    \n",
    "    # Loop through each value in each row\n",
    "    for i, n in enumerate(row): \n",
    "        \n",
    "        # Create dictionary to house data for each request on the API\n",
    "        d_address = {}\n",
    "        \n",
    "        # Print addresses being analyzed\n",
    "        print(n + ', San Francisco, CA')\n",
    "        \n",
    "        # Include keys and values into d_poss\n",
    "        d_address[i] = get_google_latlong(n + ', San Francisco, CA', api_key, return_full_response=False)\n",
    "        d_poss['response' + str(i)] = d_address\n",
    "\n",
    "    # Append to lat_long list    \n",
    "    lat_long.append(d_poss)\n",
    "    \n",
    "# Concatenate DataFrames\n",
    "df = pd.concat([df, pd.DataFrame(lat_long)], axis=1)"
   ]
  },
  {
   "cell_type": "markdown",
   "metadata": {},
   "source": [
    "#### Print First 5 Rows"
   ]
  },
  {
   "cell_type": "code",
   "execution_count": 106,
   "metadata": {},
   "outputs": [
    {
     "data": {
      "text/html": [
       "<div>\n",
       "<style scoped>\n",
       "    .dataframe tbody tr th:only-of-type {\n",
       "        vertical-align: middle;\n",
       "    }\n",
       "\n",
       "    .dataframe tbody tr th {\n",
       "        vertical-align: top;\n",
       "    }\n",
       "\n",
       "    .dataframe thead th {\n",
       "        text-align: right;\n",
       "    }\n",
       "</style>\n",
       "<table border=\"1\" class=\"dataframe\">\n",
       "  <thead>\n",
       "    <tr style=\"text-align: right;\">\n",
       "      <th></th>\n",
       "      <th>transcripts</th>\n",
       "      <th>confidence</th>\n",
       "      <th>tokens</th>\n",
       "      <th>streets</th>\n",
       "      <th>numbers</th>\n",
       "      <th>possibilities</th>\n",
       "      <th>response0</th>\n",
       "      <th>response1</th>\n",
       "      <th>response2</th>\n",
       "      <th>response3</th>\n",
       "    </tr>\n",
       "  </thead>\n",
       "  <tbody>\n",
       "    <tr>\n",
       "      <td>0</td>\n",
       "      <td>I have 12 of them with a 585 at any in Leavenworth well the silver 12 out of the next person more than says welcome 13s Perkins over 30 never 12 over to 14 hours 70 for the night</td>\n",
       "      <td>0.715435</td>\n",
       "      <td>['i', 'have', '12', 'of', 'them', 'with', 'a', '585', 'at', 'any', 'in', 'leavenworth', 'well', 'the', 'silver', '12', 'out', 'of', 'the', 'next', 'person', 'more', 'than', 'says', 'welcome', '13s', 'perkins', 'over', '30', 'never', '12', 'over', 'to', '14', 'hours', '70', 'for', 'the', 'night']</td>\n",
       "      <td>Silver Ave</td>\n",
       "      <td>[70]</td>\n",
       "      <td>[70 Silver Ave]</td>\n",
       "      <td>{0: {'latitude': 37.7299073, 'longitude': -122.4133028}}</td>\n",
       "      <td>NaN</td>\n",
       "      <td>NaN</td>\n",
       "      <td>NaN</td>\n",
       "    </tr>\n",
       "  </tbody>\n",
       "</table>\n",
       "</div>"
      ],
      "text/plain": [
       "                                                                                                                                                                          transcripts  \\\n",
       "0  I have 12 of them with a 585 at any in Leavenworth well the silver 12 out of the next person more than says welcome 13s Perkins over 30 never 12 over to 14 hours 70 for the night   \n",
       "\n",
       "   confidence  \\\n",
       "0    0.715435   \n",
       "\n",
       "                                                                                                                                                                                                                                                                                                     tokens  \\\n",
       "0  ['i', 'have', '12', 'of', 'them', 'with', 'a', '585', 'at', 'any', 'in', 'leavenworth', 'well', 'the', 'silver', '12', 'out', 'of', 'the', 'next', 'person', 'more', 'than', 'says', 'welcome', '13s', 'perkins', 'over', '30', 'never', '12', 'over', 'to', '14', 'hours', '70', 'for', 'the', 'night']   \n",
       "\n",
       "      streets numbers    possibilities  \\\n",
       "0  Silver Ave    [70]  [70 Silver Ave]   \n",
       "\n",
       "                                                  response0 response1  \\\n",
       "0  {0: {'latitude': 37.7299073, 'longitude': -122.4133028}}       NaN   \n",
       "\n",
       "  response2 response3  \n",
       "0       NaN       NaN  "
      ]
     },
     "execution_count": 106,
     "metadata": {},
     "output_type": "execute_result"
    }
   ],
   "source": [
    "df.head(1)"
   ]
  },
  {
   "cell_type": "code",
   "execution_count": 107,
   "metadata": {},
   "outputs": [],
   "source": [
    "df.fillna('No Value', inplace=True)"
   ]
  },
  {
   "cell_type": "code",
   "execution_count": 108,
   "metadata": {},
   "outputs": [
    {
     "data": {
      "text/html": [
       "<div>\n",
       "<style scoped>\n",
       "    .dataframe tbody tr th:only-of-type {\n",
       "        vertical-align: middle;\n",
       "    }\n",
       "\n",
       "    .dataframe tbody tr th {\n",
       "        vertical-align: top;\n",
       "    }\n",
       "\n",
       "    .dataframe thead th {\n",
       "        text-align: right;\n",
       "    }\n",
       "</style>\n",
       "<table border=\"1\" class=\"dataframe\">\n",
       "  <thead>\n",
       "    <tr style=\"text-align: right;\">\n",
       "      <th></th>\n",
       "      <th>transcripts</th>\n",
       "      <th>confidence</th>\n",
       "      <th>tokens</th>\n",
       "      <th>streets</th>\n",
       "      <th>numbers</th>\n",
       "      <th>possibilities</th>\n",
       "      <th>response0</th>\n",
       "      <th>response1</th>\n",
       "      <th>response2</th>\n",
       "      <th>response3</th>\n",
       "    </tr>\n",
       "  </thead>\n",
       "  <tbody>\n",
       "    <tr>\n",
       "      <td>0</td>\n",
       "      <td>I have 12 of them with a 585 at any in Leavenworth well the silver 12 out of the next person more than says welcome 13s Perkins over 30 never 12 over to 14 hours 70 for the night</td>\n",
       "      <td>0.715435</td>\n",
       "      <td>['i', 'have', '12', 'of', 'them', 'with', 'a', '585', 'at', 'any', 'in', 'leavenworth', 'well', 'the', 'silver', '12', 'out', 'of', 'the', 'next', 'person', 'more', 'than', 'says', 'welcome', '13s', 'perkins', 'over', '30', 'never', '12', 'over', 'to', '14', 'hours', '70', 'for', 'the', 'night']</td>\n",
       "      <td>Silver Ave</td>\n",
       "      <td>[70]</td>\n",
       "      <td>[70 Silver Ave]</td>\n",
       "      <td>{0: {'latitude': 37.7299073, 'longitude': -122.4133028}}</td>\n",
       "      <td>No Value</td>\n",
       "      <td>No Value</td>\n",
       "      <td>No Value</td>\n",
       "    </tr>\n",
       "  </tbody>\n",
       "</table>\n",
       "</div>"
      ],
      "text/plain": [
       "                                                                                                                                                                          transcripts  \\\n",
       "0  I have 12 of them with a 585 at any in Leavenworth well the silver 12 out of the next person more than says welcome 13s Perkins over 30 never 12 over to 14 hours 70 for the night   \n",
       "\n",
       "   confidence  \\\n",
       "0    0.715435   \n",
       "\n",
       "                                                                                                                                                                                                                                                                                                     tokens  \\\n",
       "0  ['i', 'have', '12', 'of', 'them', 'with', 'a', '585', 'at', 'any', 'in', 'leavenworth', 'well', 'the', 'silver', '12', 'out', 'of', 'the', 'next', 'person', 'more', 'than', 'says', 'welcome', '13s', 'perkins', 'over', '30', 'never', '12', 'over', 'to', '14', 'hours', '70', 'for', 'the', 'night']   \n",
       "\n",
       "      streets numbers    possibilities  \\\n",
       "0  Silver Ave    [70]  [70 Silver Ave]   \n",
       "\n",
       "                                                  response0 response1  \\\n",
       "0  {0: {'latitude': 37.7299073, 'longitude': -122.4133028}}  No Value   \n",
       "\n",
       "  response2 response3  \n",
       "0  No Value  No Value  "
      ]
     },
     "execution_count": 108,
     "metadata": {},
     "output_type": "execute_result"
    }
   ],
   "source": [
    "df.head(1)"
   ]
  },
  {
   "cell_type": "markdown",
   "metadata": {},
   "source": [
    "#### Create Response Columns with Latitude and Logitude"
   ]
  },
  {
   "cell_type": "code",
   "execution_count": 109,
   "metadata": {},
   "outputs": [],
   "source": [
    "# df['response0_lat'] = df['response0'].map(lambda x: x[0]['latitude'])\n",
    "# df['response0_long'] = df['response0'].map(lambda x: x[0]['longitude'])"
   ]
  },
  {
   "cell_type": "code",
   "execution_count": 111,
   "metadata": {
    "scrolled": false
   },
   "outputs": [
    {
     "data": {
      "text/html": [
       "<div>\n",
       "<style scoped>\n",
       "    .dataframe tbody tr th:only-of-type {\n",
       "        vertical-align: middle;\n",
       "    }\n",
       "\n",
       "    .dataframe tbody tr th {\n",
       "        vertical-align: top;\n",
       "    }\n",
       "\n",
       "    .dataframe thead th {\n",
       "        text-align: right;\n",
       "    }\n",
       "</style>\n",
       "<table border=\"1\" class=\"dataframe\">\n",
       "  <thead>\n",
       "    <tr style=\"text-align: right;\">\n",
       "      <th></th>\n",
       "      <th>transcripts</th>\n",
       "      <th>confidence</th>\n",
       "      <th>tokens</th>\n",
       "      <th>streets</th>\n",
       "      <th>numbers</th>\n",
       "      <th>possibilities</th>\n",
       "      <th>response0</th>\n",
       "      <th>response1</th>\n",
       "      <th>response2</th>\n",
       "      <th>response3</th>\n",
       "    </tr>\n",
       "  </thead>\n",
       "  <tbody>\n",
       "    <tr>\n",
       "      <td>0</td>\n",
       "      <td>I have 12 of them with a 585 at any in Leavenworth well the silver 12 out of the next person more than says welcome 13s Perkins over 30 never 12 over to 14 hours 70 for the night</td>\n",
       "      <td>0.715435</td>\n",
       "      <td>['i', 'have', '12', 'of', 'them', 'with', 'a', '585', 'at', 'any', 'in', 'leavenworth', 'well', 'the', 'silver', '12', 'out', 'of', 'the', 'next', 'person', 'more', 'than', 'says', 'welcome', '13s', 'perkins', 'over', '30', 'never', '12', 'over', 'to', '14', 'hours', '70', 'for', 'the', 'night']</td>\n",
       "      <td>Silver Ave</td>\n",
       "      <td>[70]</td>\n",
       "      <td>[70 Silver Ave]</td>\n",
       "      <td>{0: {'latitude': 37.7299073, 'longitude': -122.4133028}}</td>\n",
       "      <td>No Value</td>\n",
       "      <td>No Value</td>\n",
       "      <td>No Value</td>\n",
       "    </tr>\n",
       "    <tr>\n",
       "      <td>1</td>\n",
       "      <td>Octavia an oak California Plate State atom Tom David 902 one aboard it's a white Honda Accord for door we're sufficient got on didn't like me Harvey 4419 hide</td>\n",
       "      <td>0.884444</td>\n",
       "      <td>['octavia', 'an', 'oak', 'california', 'plate', 'state', 'atom', 'tom', 'david', '902', 'one', 'aboard', \"it's\", 'a', 'white', 'honda', 'accord', 'for', 'door', \"we're\", 'sufficient', 'got', 'on', \"didn't\", 'like', 'me', 'harvey', '4419', 'hide']</td>\n",
       "      <td>California Ave , State Dr</td>\n",
       "      <td>[4419]</td>\n",
       "      <td>[4419 State Dr, 4419 California Ave]</td>\n",
       "      <td>{0: {'latitude': 37.72457199999999, 'longitude': -122.4832877}}</td>\n",
       "      <td>{1: {'latitude': 37.7845947, 'longitude': -122.4648947}}</td>\n",
       "      <td>No Value</td>\n",
       "      <td>No Value</td>\n",
       "    </tr>\n",
       "    <tr>\n",
       "      <td>2</td>\n",
       "      <td>High tax rate 5 drunk and it's your time to shine Drummond of the 400 block of Turk</td>\n",
       "      <td>0.699905</td>\n",
       "      <td>['high', 'tax', 'rate', '5', 'drunk', 'and', \"it's\", 'your', 'time', 'to', 'shine', 'drummond', 'of', 'the', '400', 'block', 'of', 'turk']</td>\n",
       "      <td>Drummond Alley , Turk Blvd</td>\n",
       "      <td>[400]</td>\n",
       "      <td>[400 Turk Blvd, 400 Drummond Alley]</td>\n",
       "      <td>{0: {'latitude': 37.7825871, 'longitude': -122.4157746}}</td>\n",
       "      <td>{1: {'latitude': 37.7371707, 'longitude': -122.3957104}}</td>\n",
       "      <td>No Value</td>\n",
       "      <td>No Value</td>\n",
       "    </tr>\n",
       "    <tr>\n",
       "      <td>3</td>\n",
       "      <td>David once again for the night 1910 we 1404 15th Street treat everyone sits out of can I just want to play for yeah but go back to the temporary place and the Seven Roberts Roberts zebra 211 should come back to black Infinity first like I was like a regular California place it's a paper plate but I have several Robert Roberts it was fabulous party Wright place we try it was he that does go back to a 2004 is that the entity that correct yeah okay</td>\n",
       "      <td>0.818094</td>\n",
       "      <td>['david', 'once', 'again', 'for', 'the', 'night', '1910', 'we', '1404', '15th', 'street', 'treat', 'everyone', 'sits', 'out', 'of', 'can', 'i', 'just', 'want', 'to', 'play', 'for', 'yeah', 'but', 'go', 'back', 'to', 'the', 'temporary', 'place', 'and', 'the', 'seven', 'roberts', 'roberts', 'zebra', '211', 'should', 'come', 'back', 'to', 'black', 'infinity', 'first', 'like', 'i', 'was', 'like', 'a', 'regular', 'california', 'place', \"it's\", 'a', 'paper', 'plate', 'but', 'i', 'have', 'several', 'robert', 'roberts', 'it', 'was', 'fabulous', 'party', 'wright', 'place', 'we', 'try', 'it', 'was', 'he', 'that', 'does', 'go', 'back', 'to', 'a', '2004', 'is', 'that', 'the', 'entity', 'that', 'correct', 'yeah', 'okay']</td>\n",
       "      <td>15th Ave , Treat Ave , Black Pl , California Ave</td>\n",
       "      <td>[1404]</td>\n",
       "      <td>[1404 California Ave, 1404 15th Ave, 1404 Treat Ave, 1404 Black Pl]</td>\n",
       "      <td>{0: {'latitude': 37.82086899999999, 'longitude': -122.3640404}}</td>\n",
       "      <td>{1: {'latitude': 37.761754, 'longitude': -122.4726672}}</td>\n",
       "      <td>{2: {'latitude': 37.7487631, 'longitude': -122.4127913}}</td>\n",
       "      <td>{3: {'latitude': 37.7997105, 'longitude': -122.4165822}}</td>\n",
       "    </tr>\n",
       "    <tr>\n",
       "      <td>4</td>\n",
       "      <td>Dorado lemon Adam code for handled can gennessee thank you Adam for the night 12 at 20 weeks well after this nice</td>\n",
       "      <td>0.826101</td>\n",
       "      <td>['dorado', 'lemon', 'adam', 'code', 'for', 'handled', 'can', 'gennessee', 'thank', 'you', 'adam', 'for', 'the', 'night', '12', 'at', '20', 'weeks', 'well', 'after', 'this', 'nice']</td>\n",
       "      <td>Dorado Terrace</td>\n",
       "      <td>[12]</td>\n",
       "      <td>[12 Dorado Terrace]</td>\n",
       "      <td>{0: {'latitude': 37.7256755, 'longitude': -122.4609817}}</td>\n",
       "      <td>No Value</td>\n",
       "      <td>No Value</td>\n",
       "      <td>No Value</td>\n",
       "    </tr>\n",
       "    <tr>\n",
       "      <td>5</td>\n",
       "      <td>thank you Lola Lola 1826 three the city crappy thank you very much mr. high-camp further David once again take this 800 prior to 1934 this is between 19th and 20th of yelling at us know and they 45 years old Felton and Adams 70 of them</td>\n",
       "      <td>0.794633</td>\n",
       "      <td>['thank', 'you', 'lola', 'lola', '1826', 'three', 'the', 'city', 'crappy', 'thank', 'you', 'very', 'much', 'mr.', 'high-camp', 'further', 'david', 'once', 'again', 'take', 'this', '800', 'prior', 'to', '1934', 'this', 'is', 'between', '19th', 'and', '20th', 'of', 'yelling', 'at', 'us', 'know', 'and', 'they', '45', 'years', 'old', 'felton', 'and', 'adams', '70', 'of', 'them']</td>\n",
       "      <td>19th Ave , 20th Ave</td>\n",
       "      <td>[1934, 70]</td>\n",
       "      <td>[1934 19th Ave, 70 20th Ave, 1934 20th Ave, 70 19th Ave]</td>\n",
       "      <td>{0: {'latitude': 37.7516449, 'longitude': -122.475991}}</td>\n",
       "      <td>{1: {'latitude': 37.78629, 'longitude': -122.4795663}}</td>\n",
       "      <td>{2: {'latitude': 37.7516416, 'longitude': -122.4771277}}</td>\n",
       "      <td>{3: {'latitude': 37.7862671, 'longitude': -122.478463}}</td>\n",
       "    </tr>\n",
       "  </tbody>\n",
       "</table>\n",
       "</div>"
      ],
      "text/plain": [
       "                                                                                                                                                                                                                                                                                                                                                                                                                                                         transcripts  \\\n",
       "0                                                                                                                                                                                                                                                                                 I have 12 of them with a 585 at any in Leavenworth well the silver 12 out of the next person more than says welcome 13s Perkins over 30 never 12 over to 14 hours 70 for the night   \n",
       "1                                                                                                                                                                                                                                                                                                     Octavia an oak California Plate State atom Tom David 902 one aboard it's a white Honda Accord for door we're sufficient got on didn't like me Harvey 4419 hide   \n",
       "2                                                                                                                                                                                                                                                                                                                                                                                High tax rate 5 drunk and it's your time to shine Drummond of the 400 block of Turk   \n",
       "3  David once again for the night 1910 we 1404 15th Street treat everyone sits out of can I just want to play for yeah but go back to the temporary place and the Seven Roberts Roberts zebra 211 should come back to black Infinity first like I was like a regular California place it's a paper plate but I have several Robert Roberts it was fabulous party Wright place we try it was he that does go back to a 2004 is that the entity that correct yeah okay   \n",
       "4                                                                                                                                                                                                                                                                                                                                                  Dorado lemon Adam code for handled can gennessee thank you Adam for the night 12 at 20 weeks well after this nice   \n",
       "5                                                                                                                                                                                                                        thank you Lola Lola 1826 three the city crappy thank you very much mr. high-camp further David once again take this 800 prior to 1934 this is between 19th and 20th of yelling at us know and they 45 years old Felton and Adams 70 of them   \n",
       "\n",
       "   confidence  \\\n",
       "0    0.715435   \n",
       "1    0.884444   \n",
       "2    0.699905   \n",
       "3    0.818094   \n",
       "4    0.826101   \n",
       "5    0.794633   \n",
       "\n",
       "                                                                                                                                                                                                                                                                                                                                                                                                                                                                                                                                                                                                                                                                                                                                          tokens  \\\n",
       "0                                                                                                                                                                                                                                                                                                                                                                                                                                       ['i', 'have', '12', 'of', 'them', 'with', 'a', '585', 'at', 'any', 'in', 'leavenworth', 'well', 'the', 'silver', '12', 'out', 'of', 'the', 'next', 'person', 'more', 'than', 'says', 'welcome', '13s', 'perkins', 'over', '30', 'never', '12', 'over', 'to', '14', 'hours', '70', 'for', 'the', 'night']   \n",
       "1                                                                                                                                                                                                                                                                                                                                                                                                                                                                                         ['octavia', 'an', 'oak', 'california', 'plate', 'state', 'atom', 'tom', 'david', '902', 'one', 'aboard', \"it's\", 'a', 'white', 'honda', 'accord', 'for', 'door', \"we're\", 'sufficient', 'got', 'on', \"didn't\", 'like', 'me', 'harvey', '4419', 'hide']   \n",
       "2                                                                                                                                                                                                                                                                                                                                                                                                                                                                                                                                                                                                     ['high', 'tax', 'rate', '5', 'drunk', 'and', \"it's\", 'your', 'time', 'to', 'shine', 'drummond', 'of', 'the', '400', 'block', 'of', 'turk']   \n",
       "3  ['david', 'once', 'again', 'for', 'the', 'night', '1910', 'we', '1404', '15th', 'street', 'treat', 'everyone', 'sits', 'out', 'of', 'can', 'i', 'just', 'want', 'to', 'play', 'for', 'yeah', 'but', 'go', 'back', 'to', 'the', 'temporary', 'place', 'and', 'the', 'seven', 'roberts', 'roberts', 'zebra', '211', 'should', 'come', 'back', 'to', 'black', 'infinity', 'first', 'like', 'i', 'was', 'like', 'a', 'regular', 'california', 'place', \"it's\", 'a', 'paper', 'plate', 'but', 'i', 'have', 'several', 'robert', 'roberts', 'it', 'was', 'fabulous', 'party', 'wright', 'place', 'we', 'try', 'it', 'was', 'he', 'that', 'does', 'go', 'back', 'to', 'a', '2004', 'is', 'that', 'the', 'entity', 'that', 'correct', 'yeah', 'okay']   \n",
       "4                                                                                                                                                                                                                                                                                                                                                                                                                                                                                                                                                           ['dorado', 'lemon', 'adam', 'code', 'for', 'handled', 'can', 'gennessee', 'thank', 'you', 'adam', 'for', 'the', 'night', '12', 'at', '20', 'weeks', 'well', 'after', 'this', 'nice']   \n",
       "5                                                                                                                                                                                                                                                                                                                                                      ['thank', 'you', 'lola', 'lola', '1826', 'three', 'the', 'city', 'crappy', 'thank', 'you', 'very', 'much', 'mr.', 'high-camp', 'further', 'david', 'once', 'again', 'take', 'this', '800', 'prior', 'to', '1934', 'this', 'is', 'between', '19th', 'and', '20th', 'of', 'yelling', 'at', 'us', 'know', 'and', 'they', '45', 'years', 'old', 'felton', 'and', 'adams', '70', 'of', 'them']   \n",
       "\n",
       "                                            streets     numbers  \\\n",
       "0                                        Silver Ave        [70]   \n",
       "1                         California Ave , State Dr      [4419]   \n",
       "2                        Drummond Alley , Turk Blvd       [400]   \n",
       "3  15th Ave , Treat Ave , Black Pl , California Ave      [1404]   \n",
       "4                                    Dorado Terrace        [12]   \n",
       "5                               19th Ave , 20th Ave  [1934, 70]   \n",
       "\n",
       "                                                         possibilities  \\\n",
       "0                                                      [70 Silver Ave]   \n",
       "1                                 [4419 State Dr, 4419 California Ave]   \n",
       "2                                  [400 Turk Blvd, 400 Drummond Alley]   \n",
       "3  [1404 California Ave, 1404 15th Ave, 1404 Treat Ave, 1404 Black Pl]   \n",
       "4                                                  [12 Dorado Terrace]   \n",
       "5             [1934 19th Ave, 70 20th Ave, 1934 20th Ave, 70 19th Ave]   \n",
       "\n",
       "                                                         response0  \\\n",
       "0         {0: {'latitude': 37.7299073, 'longitude': -122.4133028}}   \n",
       "1  {0: {'latitude': 37.72457199999999, 'longitude': -122.4832877}}   \n",
       "2         {0: {'latitude': 37.7825871, 'longitude': -122.4157746}}   \n",
       "3  {0: {'latitude': 37.82086899999999, 'longitude': -122.3640404}}   \n",
       "4         {0: {'latitude': 37.7256755, 'longitude': -122.4609817}}   \n",
       "5          {0: {'latitude': 37.7516449, 'longitude': -122.475991}}   \n",
       "\n",
       "                                                  response1  \\\n",
       "0                                                  No Value   \n",
       "1  {1: {'latitude': 37.7845947, 'longitude': -122.4648947}}   \n",
       "2  {1: {'latitude': 37.7371707, 'longitude': -122.3957104}}   \n",
       "3   {1: {'latitude': 37.761754, 'longitude': -122.4726672}}   \n",
       "4                                                  No Value   \n",
       "5    {1: {'latitude': 37.78629, 'longitude': -122.4795663}}   \n",
       "\n",
       "                                                  response2  \\\n",
       "0                                                  No Value   \n",
       "1                                                  No Value   \n",
       "2                                                  No Value   \n",
       "3  {2: {'latitude': 37.7487631, 'longitude': -122.4127913}}   \n",
       "4                                                  No Value   \n",
       "5  {2: {'latitude': 37.7516416, 'longitude': -122.4771277}}   \n",
       "\n",
       "                                                  response3  \n",
       "0                                                  No Value  \n",
       "1                                                  No Value  \n",
       "2                                                  No Value  \n",
       "3  {3: {'latitude': 37.7997105, 'longitude': -122.4165822}}  \n",
       "4                                                  No Value  \n",
       "5   {3: {'latitude': 37.7862671, 'longitude': -122.478463}}  "
      ]
     },
     "execution_count": 111,
     "metadata": {},
     "output_type": "execute_result"
    }
   ],
   "source": [
    "df"
   ]
  },
  {
   "cell_type": "markdown",
   "metadata": {},
   "source": [
    "#### Save Addresses DataFrame to .csv"
   ]
  },
  {
   "cell_type": "code",
   "execution_count": 90,
   "metadata": {},
   "outputs": [],
   "source": [
    "df.to_csv('./data/adresses.csv', index_label=False)"
   ]
  }
 ],
 "metadata": {
  "kernelspec": {
   "display_name": "Python 3",
   "language": "python",
   "name": "python3"
  },
  "language_info": {
   "codemirror_mode": {
    "name": "ipython",
    "version": 3
   },
   "file_extension": ".py",
   "mimetype": "text/x-python",
   "name": "python",
   "nbconvert_exporter": "python",
   "pygments_lexer": "ipython3",
   "version": "3.7.4"
  },
  "toc": {
   "base_numbering": 1,
   "nav_menu": {},
   "number_sections": false,
   "sideBar": true,
   "skip_h1_title": false,
   "title_cell": "Table of Contents",
   "title_sidebar": "Contents",
   "toc_cell": false,
   "toc_position": {},
   "toc_section_display": true,
   "toc_window_display": true
  },
  "varInspector": {
   "cols": {
    "lenName": 16,
    "lenType": 16,
    "lenVar": 40
   },
   "kernels_config": {
    "python": {
     "delete_cmd_postfix": "",
     "delete_cmd_prefix": "del ",
     "library": "var_list.py",
     "varRefreshCmd": "print(var_dic_list())"
    },
    "r": {
     "delete_cmd_postfix": ") ",
     "delete_cmd_prefix": "rm(",
     "library": "var_list.r",
     "varRefreshCmd": "cat(var_dic_list()) "
    }
   },
   "types_to_exclude": [
    "module",
    "function",
    "builtin_function_or_method",
    "instance",
    "_Feature"
   ],
   "window_display": false
  }
 },
 "nbformat": 4,
 "nbformat_minor": 2
}
