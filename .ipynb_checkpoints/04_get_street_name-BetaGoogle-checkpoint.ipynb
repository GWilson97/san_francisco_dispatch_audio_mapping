{
 "cells": [
  {
   "cell_type": "markdown",
   "metadata": {},
   "source": [
    "## Get Street Names\n",
    "---\n",
    "**Code Adapted from:** [Mitchell Bohman, Nour Zahlan, and Masiur Abik](https://github.com/mchbmn/radio-to-location) and [Joseph Hopkins, Carol, Chiu, Anthony Chapman, Kwamae Delva](https://github.com/delvakwa/police_radio_to_mapping)"
   ]
  },
  {
   "cell_type": "markdown",
   "metadata": {},
   "source": [
    "#### Import Libraries"
   ]
  },
  {
   "cell_type": "code",
   "execution_count": 93,
   "metadata": {
    "scrolled": true
   },
   "outputs": [],
   "source": [
    "import spacy\n",
    "import re\n",
    "import pandas as pd\n",
    "from spacy import displacy\n",
    "from spacy.attrs import LOWER \n",
    "from collections import Counter\n",
    "from spacy.matcher import Matcher\n",
    "import numpy as np\n",
    "import usaddress\n",
    "nlp = spacy.load('en')"
   ]
  },
  {
   "cell_type": "code",
   "execution_count": 94,
   "metadata": {},
   "outputs": [],
   "source": [
    "pd.options.display.max_colwidth = 1000"
   ]
  },
  {
   "cell_type": "code",
   "execution_count": 95,
   "metadata": {},
   "outputs": [],
   "source": [
    "# Refresh stored variables from previous notebooks\n",
    "%store -r"
   ]
  },
  {
   "cell_type": "markdown",
   "metadata": {},
   "source": [
    "#### Open Saved File and Print First 5 Rows"
   ]
  },
  {
   "cell_type": "code",
   "execution_count": 96,
   "metadata": {},
   "outputs": [
    {
     "data": {
      "text/html": [
       "<div>\n",
       "<style scoped>\n",
       "    .dataframe tbody tr th:only-of-type {\n",
       "        vertical-align: middle;\n",
       "    }\n",
       "\n",
       "    .dataframe tbody tr th {\n",
       "        vertical-align: top;\n",
       "    }\n",
       "\n",
       "    .dataframe thead th {\n",
       "        text-align: right;\n",
       "    }\n",
       "</style>\n",
       "<table border=\"1\" class=\"dataframe\">\n",
       "  <thead>\n",
       "    <tr style=\"text-align: right;\">\n",
       "      <th></th>\n",
       "      <th>transcripts</th>\n",
       "      <th>confidence</th>\n",
       "      <th>tokens</th>\n",
       "    </tr>\n",
       "  </thead>\n",
       "  <tbody>\n",
       "    <tr>\n",
       "      <td>0</td>\n",
       "      <td>903 Cloud hole David Cloud hall because thank you sounds like you have a run in 801 Groban parking because we do we actually have a couple days and see you stand like this for that going to be quality priority 4018 Roi</td>\n",
       "      <td>0.780831</td>\n",
       "      <td>['903', 'cloud', 'hole', 'david', 'cloud', 'hall', 'because', 'thank', 'you', 'sounds', 'like', 'you', 'have', 'a', 'run', 'in', '801', 'groban', 'parking', 'because', 'we', 'do', 'we', 'actually', 'have', 'a', 'couple', 'days', 'and', 'see', 'you', 'stand', 'like', 'this', 'for', 'that', 'going', 'to', 'be', 'quality', 'priority', '4018', 'roi']</td>\n",
       "    </tr>\n",
       "    <tr>\n",
       "      <td>1</td>\n",
       "      <td>and I am going to throw safe I'll be going oh please</td>\n",
       "      <td>0.865382</td>\n",
       "      <td>['and', 'i', 'am', 'going', 'to', 'throw', 'safe', \"i'll\", 'be', 'going', 'oh', 'please']</td>\n",
       "    </tr>\n",
       "    <tr>\n",
       "      <td>2</td>\n",
       "      <td>having a psychotic episode in front of the house breaking things and pushing here to back to searching up three I don't want this boy bye</td>\n",
       "      <td>0.705537</td>\n",
       "      <td>['having', 'a', 'psychotic', 'episode', 'in', 'front', 'of', 'the', 'house', 'breaking', 'things', 'and', 'pushing', 'here', 'to', 'back', 'to', 'searching', 'up', 'three', 'i', \"don't\", 'want', 'this', 'boy', 'bye']</td>\n",
       "    </tr>\n",
       "    <tr>\n",
       "      <td>3</td>\n",
       "      <td>are the same as in a 3-1 one average because there's a male that Shadow Boxing on the sidewalk give us a raise or clothing description and there's a picture attached to the toes the business across the street what's the word</td>\n",
       "      <td>0.751208</td>\n",
       "      <td>['are', 'the', 'same', 'as', 'in', 'a', '3-1', 'one', 'average', 'because', \"there's\", 'a', 'male', 'that', 'shadow', 'boxing', 'on', 'the', 'sidewalk', 'give', 'us', 'a', 'raise', 'or', 'clothing', 'description', 'and', \"there's\", 'a', 'picture', 'attached', 'to', 'the', 'toes', 'the', 'business', 'across', 'the', 'street', \"what's\", 'the', 'word']</td>\n",
       "    </tr>\n",
       "    <tr>\n",
       "      <td>4</td>\n",
       "      <td>country your way will be in the area searching the enemy might include for DUI</td>\n",
       "      <td>0.660583</td>\n",
       "      <td>['country', 'your', 'way', 'will', 'be', 'in', 'the', 'area', 'searching', 'the', 'enemy', 'might', 'include', 'for', 'dui']</td>\n",
       "    </tr>\n",
       "  </tbody>\n",
       "</table>\n",
       "</div>"
      ],
      "text/plain": [
       "                                                                                                                                                                                                                        transcripts  \\\n",
       "0        903 Cloud hole David Cloud hall because thank you sounds like you have a run in 801 Groban parking because we do we actually have a couple days and see you stand like this for that going to be quality priority 4018 Roi   \n",
       "1                                                                                                                                                                              and I am going to throw safe I'll be going oh please   \n",
       "2                                                                                         having a psychotic episode in front of the house breaking things and pushing here to back to searching up three I don't want this boy bye   \n",
       "3  are the same as in a 3-1 one average because there's a male that Shadow Boxing on the sidewalk give us a raise or clothing description and there's a picture attached to the toes the business across the street what's the word   \n",
       "4                                                                                                                                                    country your way will be in the area searching the enemy might include for DUI   \n",
       "\n",
       "   confidence  \\\n",
       "0    0.780831   \n",
       "1    0.865382   \n",
       "2    0.705537   \n",
       "3    0.751208   \n",
       "4    0.660583   \n",
       "\n",
       "                                                                                                                                                                                                                                                                                                                                                            tokens  \n",
       "0     ['903', 'cloud', 'hole', 'david', 'cloud', 'hall', 'because', 'thank', 'you', 'sounds', 'like', 'you', 'have', 'a', 'run', 'in', '801', 'groban', 'parking', 'because', 'we', 'do', 'we', 'actually', 'have', 'a', 'couple', 'days', 'and', 'see', 'you', 'stand', 'like', 'this', 'for', 'that', 'going', 'to', 'be', 'quality', 'priority', '4018', 'roi']  \n",
       "1                                                                                                                                                                                                                                                                        ['and', 'i', 'am', 'going', 'to', 'throw', 'safe', \"i'll\", 'be', 'going', 'oh', 'please']  \n",
       "2                                                                                                                                         ['having', 'a', 'psychotic', 'episode', 'in', 'front', 'of', 'the', 'house', 'breaking', 'things', 'and', 'pushing', 'here', 'to', 'back', 'to', 'searching', 'up', 'three', 'i', \"don't\", 'want', 'this', 'boy', 'bye']  \n",
       "3  ['are', 'the', 'same', 'as', 'in', 'a', '3-1', 'one', 'average', 'because', \"there's\", 'a', 'male', 'that', 'shadow', 'boxing', 'on', 'the', 'sidewalk', 'give', 'us', 'a', 'raise', 'or', 'clothing', 'description', 'and', \"there's\", 'a', 'picture', 'attached', 'to', 'the', 'toes', 'the', 'business', 'across', 'the', 'street', \"what's\", 'the', 'word']  \n",
       "4                                                                                                                                                                                                                                     ['country', 'your', 'way', 'will', 'be', 'in', 'the', 'area', 'searching', 'the', 'enemy', 'might', 'include', 'for', 'dui']  "
      ]
     },
     "execution_count": 96,
     "metadata": {},
     "output_type": "execute_result"
    }
   ],
   "source": [
    "df = pd.read_csv('./data/transcripts.csv')\n",
    "df.head()"
   ]
  },
  {
   "cell_type": "code",
   "execution_count": 97,
   "metadata": {},
   "outputs": [
    {
     "data": {
      "text/plain": [
       "(17, 3)"
      ]
     },
     "execution_count": 97,
     "metadata": {},
     "output_type": "execute_result"
    }
   ],
   "source": [
    "df.shape"
   ]
  },
  {
   "cell_type": "markdown",
   "metadata": {},
   "source": [
    "---"
   ]
  },
  {
   "cell_type": "code",
   "execution_count": 98,
   "metadata": {},
   "outputs": [],
   "source": [
    "# function to extract locations using spaCy pre trained labels\n",
    "def location_extraction(string_in):\n",
    "    doc = nlp(string_in)\n",
    "    locations = []\n",
    "    # loop through every entity in the transcript\n",
    "    for X in doc.ents:\n",
    "        if (X.label_ == 'FAC') or (X.label_ == 'GPE'):\n",
    "            locations.append(X.text)\n",
    "    if len(locations) != 0:\n",
    "        return locations\n",
    "    return None\n",
    "\n",
    "# Add a column with the extracted locations\n",
    "df['location_extraction'] = df['transcripts'].map(location_extraction)"
   ]
  },
  {
   "cell_type": "code",
   "execution_count": 99,
   "metadata": {},
   "outputs": [
    {
     "data": {
      "text/html": [
       "<div>\n",
       "<style scoped>\n",
       "    .dataframe tbody tr th:only-of-type {\n",
       "        vertical-align: middle;\n",
       "    }\n",
       "\n",
       "    .dataframe tbody tr th {\n",
       "        vertical-align: top;\n",
       "    }\n",
       "\n",
       "    .dataframe thead th {\n",
       "        text-align: right;\n",
       "    }\n",
       "</style>\n",
       "<table border=\"1\" class=\"dataframe\">\n",
       "  <thead>\n",
       "    <tr style=\"text-align: right;\">\n",
       "      <th></th>\n",
       "      <th>transcripts</th>\n",
       "      <th>confidence</th>\n",
       "      <th>tokens</th>\n",
       "      <th>location_extraction</th>\n",
       "    </tr>\n",
       "  </thead>\n",
       "  <tbody>\n",
       "    <tr>\n",
       "      <td>0</td>\n",
       "      <td>903 Cloud hole David Cloud hall because thank you sounds like you have a run in 801 Groban parking because we do we actually have a couple days and see you stand like this for that going to be quality priority 4018 Roi</td>\n",
       "      <td>0.780831</td>\n",
       "      <td>['903', 'cloud', 'hole', 'david', 'cloud', 'hall', 'because', 'thank', 'you', 'sounds', 'like', 'you', 'have', 'a', 'run', 'in', '801', 'groban', 'parking', 'because', 'we', 'do', 'we', 'actually', 'have', 'a', 'couple', 'days', 'and', 'see', 'you', 'stand', 'like', 'this', 'for', 'that', 'going', 'to', 'be', 'quality', 'priority', '4018', 'roi']</td>\n",
       "      <td>None</td>\n",
       "    </tr>\n",
       "    <tr>\n",
       "      <td>1</td>\n",
       "      <td>and I am going to throw safe I'll be going oh please</td>\n",
       "      <td>0.865382</td>\n",
       "      <td>['and', 'i', 'am', 'going', 'to', 'throw', 'safe', \"i'll\", 'be', 'going', 'oh', 'please']</td>\n",
       "      <td>None</td>\n",
       "    </tr>\n",
       "    <tr>\n",
       "      <td>2</td>\n",
       "      <td>having a psychotic episode in front of the house breaking things and pushing here to back to searching up three I don't want this boy bye</td>\n",
       "      <td>0.705537</td>\n",
       "      <td>['having', 'a', 'psychotic', 'episode', 'in', 'front', 'of', 'the', 'house', 'breaking', 'things', 'and', 'pushing', 'here', 'to', 'back', 'to', 'searching', 'up', 'three', 'i', \"don't\", 'want', 'this', 'boy', 'bye']</td>\n",
       "      <td>None</td>\n",
       "    </tr>\n",
       "    <tr>\n",
       "      <td>3</td>\n",
       "      <td>are the same as in a 3-1 one average because there's a male that Shadow Boxing on the sidewalk give us a raise or clothing description and there's a picture attached to the toes the business across the street what's the word</td>\n",
       "      <td>0.751208</td>\n",
       "      <td>['are', 'the', 'same', 'as', 'in', 'a', '3-1', 'one', 'average', 'because', \"there's\", 'a', 'male', 'that', 'shadow', 'boxing', 'on', 'the', 'sidewalk', 'give', 'us', 'a', 'raise', 'or', 'clothing', 'description', 'and', \"there's\", 'a', 'picture', 'attached', 'to', 'the', 'toes', 'the', 'business', 'across', 'the', 'street', \"what's\", 'the', 'word']</td>\n",
       "      <td>None</td>\n",
       "    </tr>\n",
       "    <tr>\n",
       "      <td>4</td>\n",
       "      <td>country your way will be in the area searching the enemy might include for DUI</td>\n",
       "      <td>0.660583</td>\n",
       "      <td>['country', 'your', 'way', 'will', 'be', 'in', 'the', 'area', 'searching', 'the', 'enemy', 'might', 'include', 'for', 'dui']</td>\n",
       "      <td>None</td>\n",
       "    </tr>\n",
       "    <tr>\n",
       "      <td>5</td>\n",
       "      <td>Joyce we have them because there's a search for him I'm Peyton and I got a lot of static Anthony four times seven</td>\n",
       "      <td>0.657435</td>\n",
       "      <td>['joyce', 'we', 'have', 'them', 'because', \"there's\", 'a', 'search', 'for', 'him', \"i'm\", 'peyton', 'and', 'i', 'got', 'a', 'lot', 'of', 'static', 'anthony', 'four', 'times', 'seven']</td>\n",
       "      <td>None</td>\n",
       "    </tr>\n",
       "    <tr>\n",
       "      <td>6</td>\n",
       "      <td>that's realization for me for any reason yeah 105 I'll find you somebody to L6 Chrysler manual</td>\n",
       "      <td>0.800576</td>\n",
       "      <td>[\"that's\", 'realization', 'for', 'me', 'for', 'any', 'reason', 'yeah', '105', \"i'll\", 'find', 'you', 'somebody', 'to', 'l6', 'chrysler', 'manual']</td>\n",
       "      <td>None</td>\n",
       "    </tr>\n",
       "    <tr>\n",
       "      <td>7</td>\n",
       "      <td>have you ever No George to Adam feature extraction are located the RP I'll be making the night</td>\n",
       "      <td>0.788395</td>\n",
       "      <td>['have', 'you', 'ever', 'no', 'george', 'to', 'adam', 'feature', 'extraction', 'are', 'located', 'the', 'rp', \"i'll\", 'be', 'making', 'the', 'night']</td>\n",
       "      <td>[RP]</td>\n",
       "    </tr>\n",
       "    <tr>\n",
       "      <td>8</td>\n",
       "      <td>but a device area 30 PL on the noise today's a man on tape</td>\n",
       "      <td>0.781853</td>\n",
       "      <td>['but', 'a', 'device', 'area', '30', 'pl', 'on', 'the', 'noise', \"today's\", 'a', 'man', 'on', 'tape']</td>\n",
       "      <td>None</td>\n",
       "    </tr>\n",
       "    <tr>\n",
       "      <td>9</td>\n",
       "      <td>Locke and Larkin going to be like a massage table it's trash full trash bag probably</td>\n",
       "      <td>0.842343</td>\n",
       "      <td>['locke', 'and', 'larkin', 'going', 'to', 'be', 'like', 'a', 'massage', 'table', \"it's\", 'trash', 'full', 'trash', 'bag', 'probably']</td>\n",
       "      <td>None</td>\n",
       "    </tr>\n",
       "  </tbody>\n",
       "</table>\n",
       "</div>"
      ],
      "text/plain": [
       "                                                                                                                                                                                                                        transcripts  \\\n",
       "0        903 Cloud hole David Cloud hall because thank you sounds like you have a run in 801 Groban parking because we do we actually have a couple days and see you stand like this for that going to be quality priority 4018 Roi   \n",
       "1                                                                                                                                                                              and I am going to throw safe I'll be going oh please   \n",
       "2                                                                                         having a psychotic episode in front of the house breaking things and pushing here to back to searching up three I don't want this boy bye   \n",
       "3  are the same as in a 3-1 one average because there's a male that Shadow Boxing on the sidewalk give us a raise or clothing description and there's a picture attached to the toes the business across the street what's the word   \n",
       "4                                                                                                                                                    country your way will be in the area searching the enemy might include for DUI   \n",
       "5                                                                                                                 Joyce we have them because there's a search for him I'm Peyton and I got a lot of static Anthony four times seven   \n",
       "6                                                                                                                                    that's realization for me for any reason yeah 105 I'll find you somebody to L6 Chrysler manual   \n",
       "7                                                                                                                                    have you ever No George to Adam feature extraction are located the RP I'll be making the night   \n",
       "8                                                                                                                                                                        but a device area 30 PL on the noise today's a man on tape   \n",
       "9                                                                                                                                              Locke and Larkin going to be like a massage table it's trash full trash bag probably   \n",
       "\n",
       "   confidence  \\\n",
       "0    0.780831   \n",
       "1    0.865382   \n",
       "2    0.705537   \n",
       "3    0.751208   \n",
       "4    0.660583   \n",
       "5    0.657435   \n",
       "6    0.800576   \n",
       "7    0.788395   \n",
       "8    0.781853   \n",
       "9    0.842343   \n",
       "\n",
       "                                                                                                                                                                                                                                                                                                                                                            tokens  \\\n",
       "0     ['903', 'cloud', 'hole', 'david', 'cloud', 'hall', 'because', 'thank', 'you', 'sounds', 'like', 'you', 'have', 'a', 'run', 'in', '801', 'groban', 'parking', 'because', 'we', 'do', 'we', 'actually', 'have', 'a', 'couple', 'days', 'and', 'see', 'you', 'stand', 'like', 'this', 'for', 'that', 'going', 'to', 'be', 'quality', 'priority', '4018', 'roi']   \n",
       "1                                                                                                                                                                                                                                                                        ['and', 'i', 'am', 'going', 'to', 'throw', 'safe', \"i'll\", 'be', 'going', 'oh', 'please']   \n",
       "2                                                                                                                                         ['having', 'a', 'psychotic', 'episode', 'in', 'front', 'of', 'the', 'house', 'breaking', 'things', 'and', 'pushing', 'here', 'to', 'back', 'to', 'searching', 'up', 'three', 'i', \"don't\", 'want', 'this', 'boy', 'bye']   \n",
       "3  ['are', 'the', 'same', 'as', 'in', 'a', '3-1', 'one', 'average', 'because', \"there's\", 'a', 'male', 'that', 'shadow', 'boxing', 'on', 'the', 'sidewalk', 'give', 'us', 'a', 'raise', 'or', 'clothing', 'description', 'and', \"there's\", 'a', 'picture', 'attached', 'to', 'the', 'toes', 'the', 'business', 'across', 'the', 'street', \"what's\", 'the', 'word']   \n",
       "4                                                                                                                                                                                                                                     ['country', 'your', 'way', 'will', 'be', 'in', 'the', 'area', 'searching', 'the', 'enemy', 'might', 'include', 'for', 'dui']   \n",
       "5                                                                                                                                                                          ['joyce', 'we', 'have', 'them', 'because', \"there's\", 'a', 'search', 'for', 'him', \"i'm\", 'peyton', 'and', 'i', 'got', 'a', 'lot', 'of', 'static', 'anthony', 'four', 'times', 'seven']   \n",
       "6                                                                                                                                                                                                               [\"that's\", 'realization', 'for', 'me', 'for', 'any', 'reason', 'yeah', '105', \"i'll\", 'find', 'you', 'somebody', 'to', 'l6', 'chrysler', 'manual']   \n",
       "7                                                                                                                                                                                                            ['have', 'you', 'ever', 'no', 'george', 'to', 'adam', 'feature', 'extraction', 'are', 'located', 'the', 'rp', \"i'll\", 'be', 'making', 'the', 'night']   \n",
       "8                                                                                                                                                                                                                                                            ['but', 'a', 'device', 'area', '30', 'pl', 'on', 'the', 'noise', \"today's\", 'a', 'man', 'on', 'tape']   \n",
       "9                                                                                                                                                                                                                            ['locke', 'and', 'larkin', 'going', 'to', 'be', 'like', 'a', 'massage', 'table', \"it's\", 'trash', 'full', 'trash', 'bag', 'probably']   \n",
       "\n",
       "  location_extraction  \n",
       "0                None  \n",
       "1                None  \n",
       "2                None  \n",
       "3                None  \n",
       "4                None  \n",
       "5                None  \n",
       "6                None  \n",
       "7                [RP]  \n",
       "8                None  \n",
       "9                None  "
      ]
     },
     "execution_count": 99,
     "metadata": {},
     "output_type": "execute_result"
    }
   ],
   "source": [
    "df.head(10)"
   ]
  },
  {
   "cell_type": "markdown",
   "metadata": {},
   "source": [
    "---"
   ]
  },
  {
   "cell_type": "markdown",
   "metadata": {},
   "source": [
    "#### Split All List Elements into Single Strings"
   ]
  },
  {
   "cell_type": "code",
   "execution_count": 100,
   "metadata": {},
   "outputs": [
    {
     "data": {
      "text/plain": [
       "['10th Ave', '10th St', '11th Ave', '11th St', '12th Ave']"
      ]
     },
     "execution_count": 100,
     "metadata": {},
     "output_type": "execute_result"
    }
   ],
   "source": [
    "streets_list[:5]"
   ]
  },
  {
   "cell_type": "code",
   "execution_count": 101,
   "metadata": {},
   "outputs": [
    {
     "data": {
      "text/plain": [
       "2451"
      ]
     },
     "execution_count": 101,
     "metadata": {},
     "output_type": "execute_result"
    }
   ],
   "source": [
    "len(streets_list)"
   ]
  },
  {
   "cell_type": "code",
   "execution_count": 102,
   "metadata": {},
   "outputs": [],
   "source": [
    "streets_list = [i.lower().split(' ') for i in streets_list]\n",
    "\n",
    "complete_list = []\n",
    "for i in streets_list:\n",
    "    for j in i:\n",
    "        complete_list.append(j)\n",
    "complete_list = list(set(complete_list))"
   ]
  },
  {
   "cell_type": "code",
   "execution_count": 103,
   "metadata": {},
   "outputs": [
    {
     "data": {
      "text/plain": [
       "['', 'agua', 'turner', 'caire', 'dedman']"
      ]
     },
     "execution_count": 103,
     "metadata": {},
     "output_type": "execute_result"
    }
   ],
   "source": [
    "complete_list[:5]"
   ]
  },
  {
   "cell_type": "code",
   "execution_count": 104,
   "metadata": {},
   "outputs": [
    {
     "data": {
      "text/plain": [
       "2274"
      ]
     },
     "execution_count": 104,
     "metadata": {},
     "output_type": "execute_result"
    }
   ],
   "source": [
    "len(complete_list)"
   ]
  },
  {
   "cell_type": "markdown",
   "metadata": {},
   "source": [
    "---"
   ]
  },
  {
   "cell_type": "markdown",
   "metadata": {},
   "source": [
    "#### Create Columns with Possible Addresses"
   ]
  },
  {
   "cell_type": "code",
   "execution_count": 105,
   "metadata": {},
   "outputs": [],
   "source": [
    "addresses = []\n",
    "for text in df['transcripts']:\n",
    "    d = {}\n",
    "    list_tuples = usaddress.parse(text)\n",
    "    \n",
    "    numbers= []\n",
    "    streets = []\n",
    "    types = []\n",
    "    full_address = ''\n",
    "    \n",
    "    for i, n in enumerate(list_tuples):\n",
    "        \n",
    "        if list_tuples[i][1] == 'StreetName':\n",
    "            streets.append(n[0].lower())\n",
    "            \n",
    "        if list_tuples[i][1] == 'AddressNumber':\n",
    "            numbers.append(n[0].lower())\n",
    "            \n",
    "        if list_tuples[i][1] == 'StreetNamePostType':\n",
    "            types.append(n[0].lower())\n",
    "    \n",
    "    d['streets'] = streets\n",
    "    d['numbers'] = numbers\n",
    "    d['types'] = types\n",
    "    addresses.append(d)"
   ]
  },
  {
   "cell_type": "code",
   "execution_count": 106,
   "metadata": {},
   "outputs": [],
   "source": [
    "df = pd.concat([df, pd.DataFrame(addresses)], axis=1)"
   ]
  },
  {
   "cell_type": "code",
   "execution_count": 111,
   "metadata": {},
   "outputs": [
    {
     "data": {
      "text/html": [
       "<div>\n",
       "<style scoped>\n",
       "    .dataframe tbody tr th:only-of-type {\n",
       "        vertical-align: middle;\n",
       "    }\n",
       "\n",
       "    .dataframe tbody tr th {\n",
       "        vertical-align: top;\n",
       "    }\n",
       "\n",
       "    .dataframe thead th {\n",
       "        text-align: right;\n",
       "    }\n",
       "</style>\n",
       "<table border=\"1\" class=\"dataframe\">\n",
       "  <thead>\n",
       "    <tr style=\"text-align: right;\">\n",
       "      <th></th>\n",
       "      <th>transcripts</th>\n",
       "      <th>confidence</th>\n",
       "      <th>tokens</th>\n",
       "      <th>location_extraction</th>\n",
       "      <th>streets</th>\n",
       "      <th>numbers</th>\n",
       "      <th>types</th>\n",
       "    </tr>\n",
       "  </thead>\n",
       "  <tbody>\n",
       "    <tr>\n",
       "      <td>0</td>\n",
       "      <td>903 Cloud hole David Cloud hall because thank you sounds like you have a run in 801 Groban parking because we do we actually have a couple days and see you stand like this for that going to be quality priority 4018 Roi</td>\n",
       "      <td>0.780831</td>\n",
       "      <td>['903', 'cloud', 'hole', 'david', 'cloud', 'hall', 'because', 'thank', 'you', 'sounds', 'like', 'you', 'have', 'a', 'run', 'in', '801', 'groban', 'parking', 'because', 'we', 'do', 'we', 'actually', 'have', 'a', 'couple', 'days', 'and', 'see', 'you', 'stand', 'like', 'this', 'for', 'that', 'going', 'to', 'be', 'quality', 'priority', '4018', 'roi']</td>\n",
       "      <td>None</td>\n",
       "      <td>[cloud, roi]</td>\n",
       "      <td>[903, 4018]</td>\n",
       "      <td>[]</td>\n",
       "    </tr>\n",
       "    <tr>\n",
       "      <td>1</td>\n",
       "      <td>and I am going to throw safe I'll be going oh please</td>\n",
       "      <td>0.865382</td>\n",
       "      <td>['and', 'i', 'am', 'going', 'to', 'throw', 'safe', \"i'll\", 'be', 'going', 'oh', 'please']</td>\n",
       "      <td>None</td>\n",
       "      <td>[]</td>\n",
       "      <td>[]</td>\n",
       "      <td>[]</td>\n",
       "    </tr>\n",
       "    <tr>\n",
       "      <td>2</td>\n",
       "      <td>having a psychotic episode in front of the house breaking things and pushing here to back to searching up three I don't want this boy bye</td>\n",
       "      <td>0.705537</td>\n",
       "      <td>['having', 'a', 'psychotic', 'episode', 'in', 'front', 'of', 'the', 'house', 'breaking', 'things', 'and', 'pushing', 'here', 'to', 'back', 'to', 'searching', 'up', 'three', 'i', \"don't\", 'want', 'this', 'boy', 'bye']</td>\n",
       "      <td>None</td>\n",
       "      <td>[]</td>\n",
       "      <td>[]</td>\n",
       "      <td>[]</td>\n",
       "    </tr>\n",
       "    <tr>\n",
       "      <td>3</td>\n",
       "      <td>are the same as in a 3-1 one average because there's a male that Shadow Boxing on the sidewalk give us a raise or clothing description and there's a picture attached to the toes the business across the street what's the word</td>\n",
       "      <td>0.751208</td>\n",
       "      <td>['are', 'the', 'same', 'as', 'in', 'a', '3-1', 'one', 'average', 'because', \"there's\", 'a', 'male', 'that', 'shadow', 'boxing', 'on', 'the', 'sidewalk', 'give', 'us', 'a', 'raise', 'or', 'clothing', 'description', 'and', \"there's\", 'a', 'picture', 'attached', 'to', 'the', 'toes', 'the', 'business', 'across', 'the', 'street', \"what's\", 'the', 'word']</td>\n",
       "      <td>None</td>\n",
       "      <td>[]</td>\n",
       "      <td>[]</td>\n",
       "      <td>[]</td>\n",
       "    </tr>\n",
       "    <tr>\n",
       "      <td>4</td>\n",
       "      <td>country your way will be in the area searching the enemy might include for DUI</td>\n",
       "      <td>0.660583</td>\n",
       "      <td>['country', 'your', 'way', 'will', 'be', 'in', 'the', 'area', 'searching', 'the', 'enemy', 'might', 'include', 'for', 'dui']</td>\n",
       "      <td>None</td>\n",
       "      <td>[]</td>\n",
       "      <td>[]</td>\n",
       "      <td>[]</td>\n",
       "    </tr>\n",
       "    <tr>\n",
       "      <td>5</td>\n",
       "      <td>Joyce we have them because there's a search for him I'm Peyton and I got a lot of static Anthony four times seven</td>\n",
       "      <td>0.657435</td>\n",
       "      <td>['joyce', 'we', 'have', 'them', 'because', \"there's\", 'a', 'search', 'for', 'him', \"i'm\", 'peyton', 'and', 'i', 'got', 'a', 'lot', 'of', 'static', 'anthony', 'four', 'times', 'seven']</td>\n",
       "      <td>None</td>\n",
       "      <td>[]</td>\n",
       "      <td>[]</td>\n",
       "      <td>[]</td>\n",
       "    </tr>\n",
       "    <tr>\n",
       "      <td>6</td>\n",
       "      <td>that's realization for me for any reason yeah 105 I'll find you somebody to L6 Chrysler manual</td>\n",
       "      <td>0.800576</td>\n",
       "      <td>[\"that's\", 'realization', 'for', 'me', 'for', 'any', 'reason', 'yeah', '105', \"i'll\", 'find', 'you', 'somebody', 'to', 'l6', 'chrysler', 'manual']</td>\n",
       "      <td>None</td>\n",
       "      <td>[]</td>\n",
       "      <td>[]</td>\n",
       "      <td>[]</td>\n",
       "    </tr>\n",
       "    <tr>\n",
       "      <td>7</td>\n",
       "      <td>have you ever No George to Adam feature extraction are located the RP I'll be making the night</td>\n",
       "      <td>0.788395</td>\n",
       "      <td>['have', 'you', 'ever', 'no', 'george', 'to', 'adam', 'feature', 'extraction', 'are', 'located', 'the', 'rp', \"i'll\", 'be', 'making', 'the', 'night']</td>\n",
       "      <td>[RP]</td>\n",
       "      <td>[]</td>\n",
       "      <td>[]</td>\n",
       "      <td>[]</td>\n",
       "    </tr>\n",
       "    <tr>\n",
       "      <td>8</td>\n",
       "      <td>but a device area 30 PL on the noise today's a man on tape</td>\n",
       "      <td>0.781853</td>\n",
       "      <td>['but', 'a', 'device', 'area', '30', 'pl', 'on', 'the', 'noise', \"today's\", 'a', 'man', 'on', 'tape']</td>\n",
       "      <td>None</td>\n",
       "      <td>[]</td>\n",
       "      <td>[]</td>\n",
       "      <td>[]</td>\n",
       "    </tr>\n",
       "    <tr>\n",
       "      <td>9</td>\n",
       "      <td>Locke and Larkin going to be like a massage table it's trash full trash bag probably</td>\n",
       "      <td>0.842343</td>\n",
       "      <td>['locke', 'and', 'larkin', 'going', 'to', 'be', 'like', 'a', 'massage', 'table', \"it's\", 'trash', 'full', 'trash', 'bag', 'probably']</td>\n",
       "      <td>None</td>\n",
       "      <td>[]</td>\n",
       "      <td>[]</td>\n",
       "      <td>[]</td>\n",
       "    </tr>\n",
       "    <tr>\n",
       "      <td>10</td>\n",
       "      <td>golfer 2100 block of mission I don't want her out of rehab but Joyce and that are 48 thank you Row 1</td>\n",
       "      <td>0.715461</td>\n",
       "      <td>['golfer', '2100', 'block', 'of', 'mission', 'i', \"don't\", 'want', 'her', 'out', 'of', 'rehab', 'but', 'joyce', 'and', 'that', 'are', '48', 'thank', 'you', 'row', '1']</td>\n",
       "      <td>None</td>\n",
       "      <td>[thank, you]</td>\n",
       "      <td>[48]</td>\n",
       "      <td>[row]</td>\n",
       "    </tr>\n",
       "    <tr>\n",
       "      <td>11</td>\n",
       "      <td>go Gators on actual dress they're just requesting Asia standby for gardening previous person who caused issues so there's no specific issues right now stand for and what you'll switch to the dress warm have been read this in 420 Court will converge together</td>\n",
       "      <td>0.783379</td>\n",
       "      <td>['go', 'gators', 'on', 'actual', 'dress', \"they're\", 'just', 'requesting', 'asia', 'standby', 'for', 'gardening', 'previous', 'person', 'who', 'caused', 'issues', 'so', \"there's\", 'no', 'specific', 'issues', 'right', 'now', 'stand', 'for', 'and', 'what', \"you'll\", 'switch', 'to', 'the', 'dress', 'warm', 'have', 'been', 'read', 'this', 'in', '420', 'court', 'will', 'converge', 'together']</td>\n",
       "      <td>None</td>\n",
       "      <td>[court, will, converge, together]</td>\n",
       "      <td>[420]</td>\n",
       "      <td>[]</td>\n",
       "    </tr>\n",
       "    <tr>\n",
       "      <td>12</td>\n",
       "      <td>Buena from the 242 girlfriend's of white female 32256 and Bill Black definitely</td>\n",
       "      <td>0.813940</td>\n",
       "      <td>['buena', 'from', 'the', '242', \"girlfriend's\", 'of', 'white', 'female', '32256', 'and', 'bill', 'black', 'definitely']</td>\n",
       "      <td>None</td>\n",
       "      <td>[girlfriend's, of, white, female, 32256, bill, black, definitely]</td>\n",
       "      <td>[242]</td>\n",
       "      <td>[]</td>\n",
       "    </tr>\n",
       "    <tr>\n",
       "      <td>13</td>\n",
       "      <td>my party party for 1830 very Geneva's known open with 40 Charles and I just want those words you know that I intend on this Earth</td>\n",
       "      <td>0.760276</td>\n",
       "      <td>['my', 'party', 'party', 'for', '1830', 'very', \"geneva's\", 'known', 'open', 'with', '40', 'charles', 'and', 'i', 'just', 'want', 'those', 'words', 'you', 'know', 'that', 'i', 'intend', 'on', 'this', 'earth']</td>\n",
       "      <td>[Geneva]</td>\n",
       "      <td>[]</td>\n",
       "      <td>[]</td>\n",
       "      <td>[]</td>\n",
       "    </tr>\n",
       "    <tr>\n",
       "      <td>14</td>\n",
       "      <td>Harris is George plans on his also be a joyful Adam wearing but a 135 performance through our job search everybody can correspond to be pretty 650 180 19th Avenue making the night</td>\n",
       "      <td>0.834737</td>\n",
       "      <td>['harris', 'is', 'george', 'plans', 'on', 'his', 'also', 'be', 'a', 'joyful', 'adam', 'wearing', 'but', 'a', '135', 'performance', 'through', 'our', 'job', 'search', 'everybody', 'can', 'correspond', 'to', 'be', 'pretty', '650', '180', '19th', 'avenue', 'making', 'the', 'night']</td>\n",
       "      <td>None</td>\n",
       "      <td>[19th]</td>\n",
       "      <td>[180]</td>\n",
       "      <td>[avenue]</td>\n",
       "    </tr>\n",
       "    <tr>\n",
       "      <td>15</td>\n",
       "      <td>Parrish like a block away from the 800 in our sector so can you put us on that prior the one on Cumberland and it's 40 taking his clothes off</td>\n",
       "      <td>0.784734</td>\n",
       "      <td>['parrish', 'like', 'a', 'block', 'away', 'from', 'the', '800', 'in', 'our', 'sector', 'so', 'can', 'you', 'put', 'us', 'on', 'that', 'prior', 'the', 'one', 'on', 'cumberland', 'and', \"it's\", '40', 'taking', 'his', 'clothes', 'off']</td>\n",
       "      <td>None</td>\n",
       "      <td>[]</td>\n",
       "      <td>[]</td>\n",
       "      <td>[]</td>\n",
       "    </tr>\n",
       "    <tr>\n",
       "      <td>16</td>\n",
       "      <td>glasses are for you can put it back in the 30s Adam Parvati five Brian second California Plate seven two four four eight yellow one silver Toyota Tacoma to R1 aborts addition we have our if I want I'm Charlie by his second test for the plates and verb instead of two before he</td>\n",
       "      <td>0.792728</td>\n",
       "      <td>['glasses', 'are', 'for', 'you', 'can', 'put', 'it', 'back', 'in', 'the', '30s', 'adam', 'parvati', 'five', 'brian', 'second', 'california', 'plate', 'seven', 'two', 'four', 'four', 'eight', 'yellow', 'one', 'silver', 'toyota', 'tacoma', 'to', 'r1', 'aborts', 'addition', 'we', 'have', 'our', 'if', 'i', 'want', \"i'm\", 'charlie', 'by', 'his', 'second', 'test', 'for', 'the', 'plates', 'and', 'verb', 'instead', 'of', 'two', 'before', 'he']</td>\n",
       "      <td>[California, Tacoma]</td>\n",
       "      <td>[]</td>\n",
       "      <td>[]</td>\n",
       "      <td>[]</td>\n",
       "    </tr>\n",
       "  </tbody>\n",
       "</table>\n",
       "</div>"
      ],
      "text/plain": [
       "                                                                                                                                                                                                                                                                             transcripts  \\\n",
       "0                                                             903 Cloud hole David Cloud hall because thank you sounds like you have a run in 801 Groban parking because we do we actually have a couple days and see you stand like this for that going to be quality priority 4018 Roi   \n",
       "1                                                                                                                                                                                                                                   and I am going to throw safe I'll be going oh please   \n",
       "2                                                                                                                                              having a psychotic episode in front of the house breaking things and pushing here to back to searching up three I don't want this boy bye   \n",
       "3                                                       are the same as in a 3-1 one average because there's a male that Shadow Boxing on the sidewalk give us a raise or clothing description and there's a picture attached to the toes the business across the street what's the word   \n",
       "4                                                                                                                                                                                                         country your way will be in the area searching the enemy might include for DUI   \n",
       "5                                                                                                                                                                      Joyce we have them because there's a search for him I'm Peyton and I got a lot of static Anthony four times seven   \n",
       "6                                                                                                                                                                                         that's realization for me for any reason yeah 105 I'll find you somebody to L6 Chrysler manual   \n",
       "7                                                                                                                                                                                         have you ever No George to Adam feature extraction are located the RP I'll be making the night   \n",
       "8                                                                                                                                                                                                                             but a device area 30 PL on the noise today's a man on tape   \n",
       "9                                                                                                                                                                                                   Locke and Larkin going to be like a massage table it's trash full trash bag probably   \n",
       "10                                                                                                                                                                                  golfer 2100 block of mission I don't want her out of rehab but Joyce and that are 48 thank you Row 1   \n",
       "11                     go Gators on actual dress they're just requesting Asia standby for gardening previous person who caused issues so there's no specific issues right now stand for and what you'll switch to the dress warm have been read this in 420 Court will converge together   \n",
       "12                                                                                                                                                                                                       Buena from the 242 girlfriend's of white female 32256 and Bill Black definitely   \n",
       "13                                                                                                                                                     my party party for 1830 very Geneva's known open with 40 Charles and I just want those words you know that I intend on this Earth   \n",
       "14                                                                                                   Harris is George plans on his also be a joyful Adam wearing but a 135 performance through our job search everybody can correspond to be pretty 650 180 19th Avenue making the night   \n",
       "15                                                                                                                                         Parrish like a block away from the 800 in our sector so can you put us on that prior the one on Cumberland and it's 40 taking his clothes off   \n",
       "16  glasses are for you can put it back in the 30s Adam Parvati five Brian second California Plate seven two four four eight yellow one silver Toyota Tacoma to R1 aborts addition we have our if I want I'm Charlie by his second test for the plates and verb instead of two before he   \n",
       "\n",
       "    confidence  \\\n",
       "0     0.780831   \n",
       "1     0.865382   \n",
       "2     0.705537   \n",
       "3     0.751208   \n",
       "4     0.660583   \n",
       "5     0.657435   \n",
       "6     0.800576   \n",
       "7     0.788395   \n",
       "8     0.781853   \n",
       "9     0.842343   \n",
       "10    0.715461   \n",
       "11    0.783379   \n",
       "12    0.813940   \n",
       "13    0.760276   \n",
       "14    0.834737   \n",
       "15    0.784734   \n",
       "16    0.792728   \n",
       "\n",
       "                                                                                                                                                                                                                                                                                                                                                                                                                                                     tokens  \\\n",
       "0                                                                                              ['903', 'cloud', 'hole', 'david', 'cloud', 'hall', 'because', 'thank', 'you', 'sounds', 'like', 'you', 'have', 'a', 'run', 'in', '801', 'groban', 'parking', 'because', 'we', 'do', 'we', 'actually', 'have', 'a', 'couple', 'days', 'and', 'see', 'you', 'stand', 'like', 'this', 'for', 'that', 'going', 'to', 'be', 'quality', 'priority', '4018', 'roi']   \n",
       "1                                                                                                                                                                                                                                                                                                                                                                 ['and', 'i', 'am', 'going', 'to', 'throw', 'safe', \"i'll\", 'be', 'going', 'oh', 'please']   \n",
       "2                                                                                                                                                                                                                                  ['having', 'a', 'psychotic', 'episode', 'in', 'front', 'of', 'the', 'house', 'breaking', 'things', 'and', 'pushing', 'here', 'to', 'back', 'to', 'searching', 'up', 'three', 'i', \"don't\", 'want', 'this', 'boy', 'bye']   \n",
       "3                                                                                           ['are', 'the', 'same', 'as', 'in', 'a', '3-1', 'one', 'average', 'because', \"there's\", 'a', 'male', 'that', 'shadow', 'boxing', 'on', 'the', 'sidewalk', 'give', 'us', 'a', 'raise', 'or', 'clothing', 'description', 'and', \"there's\", 'a', 'picture', 'attached', 'to', 'the', 'toes', 'the', 'business', 'across', 'the', 'street', \"what's\", 'the', 'word']   \n",
       "4                                                                                                                                                                                                                                                                                                                              ['country', 'your', 'way', 'will', 'be', 'in', 'the', 'area', 'searching', 'the', 'enemy', 'might', 'include', 'for', 'dui']   \n",
       "5                                                                                                                                                                                                                                                                   ['joyce', 'we', 'have', 'them', 'because', \"there's\", 'a', 'search', 'for', 'him', \"i'm\", 'peyton', 'and', 'i', 'got', 'a', 'lot', 'of', 'static', 'anthony', 'four', 'times', 'seven']   \n",
       "6                                                                                                                                                                                                                                                                                                        [\"that's\", 'realization', 'for', 'me', 'for', 'any', 'reason', 'yeah', '105', \"i'll\", 'find', 'you', 'somebody', 'to', 'l6', 'chrysler', 'manual']   \n",
       "7                                                                                                                                                                                                                                                                                                     ['have', 'you', 'ever', 'no', 'george', 'to', 'adam', 'feature', 'extraction', 'are', 'located', 'the', 'rp', \"i'll\", 'be', 'making', 'the', 'night']   \n",
       "8                                                                                                                                                                                                                                                                                                                                                     ['but', 'a', 'device', 'area', '30', 'pl', 'on', 'the', 'noise', \"today's\", 'a', 'man', 'on', 'tape']   \n",
       "9                                                                                                                                                                                                                                                                                                                     ['locke', 'and', 'larkin', 'going', 'to', 'be', 'like', 'a', 'massage', 'table', \"it's\", 'trash', 'full', 'trash', 'bag', 'probably']   \n",
       "10                                                                                                                                                                                                                                                                                  ['golfer', '2100', 'block', 'of', 'mission', 'i', \"don't\", 'want', 'her', 'out', 'of', 'rehab', 'but', 'joyce', 'and', 'that', 'are', '48', 'thank', 'you', 'row', '1']   \n",
       "11                                                   ['go', 'gators', 'on', 'actual', 'dress', \"they're\", 'just', 'requesting', 'asia', 'standby', 'for', 'gardening', 'previous', 'person', 'who', 'caused', 'issues', 'so', \"there's\", 'no', 'specific', 'issues', 'right', 'now', 'stand', 'for', 'and', 'what', \"you'll\", 'switch', 'to', 'the', 'dress', 'warm', 'have', 'been', 'read', 'this', 'in', '420', 'court', 'will', 'converge', 'together']   \n",
       "12                                                                                                                                                                                                                                                                                                                                  ['buena', 'from', 'the', '242', \"girlfriend's\", 'of', 'white', 'female', '32256', 'and', 'bill', 'black', 'definitely']   \n",
       "13                                                                                                                                                                                                                                         ['my', 'party', 'party', 'for', '1830', 'very', \"geneva's\", 'known', 'open', 'with', '40', 'charles', 'and', 'i', 'just', 'want', 'those', 'words', 'you', 'know', 'that', 'i', 'intend', 'on', 'this', 'earth']   \n",
       "14                                                                                                                                                                  ['harris', 'is', 'george', 'plans', 'on', 'his', 'also', 'be', 'a', 'joyful', 'adam', 'wearing', 'but', 'a', '135', 'performance', 'through', 'our', 'job', 'search', 'everybody', 'can', 'correspond', 'to', 'be', 'pretty', '650', '180', '19th', 'avenue', 'making', 'the', 'night']   \n",
       "15                                                                                                                                                                                                                 ['parrish', 'like', 'a', 'block', 'away', 'from', 'the', '800', 'in', 'our', 'sector', 'so', 'can', 'you', 'put', 'us', 'on', 'that', 'prior', 'the', 'one', 'on', 'cumberland', 'and', \"it's\", '40', 'taking', 'his', 'clothes', 'off']   \n",
       "16  ['glasses', 'are', 'for', 'you', 'can', 'put', 'it', 'back', 'in', 'the', '30s', 'adam', 'parvati', 'five', 'brian', 'second', 'california', 'plate', 'seven', 'two', 'four', 'four', 'eight', 'yellow', 'one', 'silver', 'toyota', 'tacoma', 'to', 'r1', 'aborts', 'addition', 'we', 'have', 'our', 'if', 'i', 'want', \"i'm\", 'charlie', 'by', 'his', 'second', 'test', 'for', 'the', 'plates', 'and', 'verb', 'instead', 'of', 'two', 'before', 'he']   \n",
       "\n",
       "     location_extraction  \\\n",
       "0                   None   \n",
       "1                   None   \n",
       "2                   None   \n",
       "3                   None   \n",
       "4                   None   \n",
       "5                   None   \n",
       "6                   None   \n",
       "7                   [RP]   \n",
       "8                   None   \n",
       "9                   None   \n",
       "10                  None   \n",
       "11                  None   \n",
       "12                  None   \n",
       "13              [Geneva]   \n",
       "14                  None   \n",
       "15                  None   \n",
       "16  [California, Tacoma]   \n",
       "\n",
       "                                                              streets  \\\n",
       "0                                                        [cloud, roi]   \n",
       "1                                                                  []   \n",
       "2                                                                  []   \n",
       "3                                                                  []   \n",
       "4                                                                  []   \n",
       "5                                                                  []   \n",
       "6                                                                  []   \n",
       "7                                                                  []   \n",
       "8                                                                  []   \n",
       "9                                                                  []   \n",
       "10                                                       [thank, you]   \n",
       "11                                  [court, will, converge, together]   \n",
       "12  [girlfriend's, of, white, female, 32256, bill, black, definitely]   \n",
       "13                                                                 []   \n",
       "14                                                             [19th]   \n",
       "15                                                                 []   \n",
       "16                                                                 []   \n",
       "\n",
       "        numbers     types  \n",
       "0   [903, 4018]        []  \n",
       "1            []        []  \n",
       "2            []        []  \n",
       "3            []        []  \n",
       "4            []        []  \n",
       "5            []        []  \n",
       "6            []        []  \n",
       "7            []        []  \n",
       "8            []        []  \n",
       "9            []        []  \n",
       "10         [48]     [row]  \n",
       "11        [420]        []  \n",
       "12        [242]        []  \n",
       "13           []        []  \n",
       "14        [180]  [avenue]  \n",
       "15           []        []  \n",
       "16           []        []  "
      ]
     },
     "execution_count": 111,
     "metadata": {},
     "output_type": "execute_result"
    }
   ],
   "source": [
    "df"
   ]
  },
  {
   "cell_type": "markdown",
   "metadata": {},
   "source": [
    "---"
   ]
  },
  {
   "cell_type": "markdown",
   "metadata": {},
   "source": [
    "#### X"
   ]
  },
  {
   "cell_type": "code",
   "execution_count": null,
   "metadata": {},
   "outputs": [],
   "source": [
    "# numbers= []\n",
    "# streets = []\n",
    "# types = []\n",
    "\n",
    "# for i in range(len(list_tuples) - 1):\n",
    "#     if list_tuples[i][1] == 'StreetName':\n",
    "#         streets.append(list_tuples[i][0].lower())\n",
    "#     if list_tuples[i][1] == 'AddressNumber':\n",
    "#         numbers.append(list_tuples[i][0].lower())\n",
    "#     if list_tuples[i][1] == 'StreetNamePostType':\n",
    "#         types.append(list_tuples[i][0].lower())  \n",
    "\n",
    "# full_address = ''\n",
    "\n",
    "# numbers = [int(i) for i in numbers]\n",
    "# final_number = max(numbers)\n",
    "\n",
    "# for s in streets:\n",
    "#     if s in complete_list:\n",
    "#         final_street = s\n",
    "# for t in types:\n",
    "#     if t in complete_list:\n",
    "#         final_type = t\n",
    "# full_address = full_address + str(final_number) + ' ' + final_street + ' ' + final_type"
   ]
  },
  {
   "cell_type": "markdown",
   "metadata": {},
   "source": [
    "---"
   ]
  },
  {
   "cell_type": "code",
   "execution_count": null,
   "metadata": {},
   "outputs": [],
   "source": [
    "df.shape"
   ]
  },
  {
   "cell_type": "code",
   "execution_count": null,
   "metadata": {},
   "outputs": [],
   "source": [
    "# Save them as csv\n",
    "df.to_csv(f\"../data/Data/Long_and_Lat_result /{df['filename']}.csv\")\n",
    "df_context.to_csv(f\"../data/Data/Long_and_Lat_result_w_o_context/{df_context['filename']}.csv\")"
   ]
  },
  {
   "cell_type": "code",
   "execution_count": null,
   "metadata": {},
   "outputs": [],
   "source": []
  }
 ],
 "metadata": {
  "kernelspec": {
   "display_name": "Python 3",
   "language": "python",
   "name": "python3"
  },
  "language_info": {
   "codemirror_mode": {
    "name": "ipython",
    "version": 3
   },
   "file_extension": ".py",
   "mimetype": "text/x-python",
   "name": "python",
   "nbconvert_exporter": "python",
   "pygments_lexer": "ipython3",
   "version": "3.7.4"
  },
  "toc": {
   "base_numbering": 1,
   "nav_menu": {},
   "number_sections": false,
   "sideBar": true,
   "skip_h1_title": false,
   "title_cell": "Table of Contents",
   "title_sidebar": "Contents",
   "toc_cell": false,
   "toc_position": {},
   "toc_section_display": true,
   "toc_window_display": true
  },
  "varInspector": {
   "cols": {
    "lenName": 16,
    "lenType": 16,
    "lenVar": 40
   },
   "kernels_config": {
    "python": {
     "delete_cmd_postfix": "",
     "delete_cmd_prefix": "del ",
     "library": "var_list.py",
     "varRefreshCmd": "print(var_dic_list())"
    },
    "r": {
     "delete_cmd_postfix": ") ",
     "delete_cmd_prefix": "rm(",
     "library": "var_list.r",
     "varRefreshCmd": "cat(var_dic_list()) "
    }
   },
   "types_to_exclude": [
    "module",
    "function",
    "builtin_function_or_method",
    "instance",
    "_Feature"
   ],
   "window_display": false
  }
 },
 "nbformat": 4,
 "nbformat_minor": 2
}
